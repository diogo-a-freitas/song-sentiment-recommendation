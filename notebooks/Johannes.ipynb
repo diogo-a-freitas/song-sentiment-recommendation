{
 "cells": [
  {
   "cell_type": "code",
   "execution_count": 33,
   "id": "352a824b",
   "metadata": {},
   "outputs": [],
   "source": [
    "import numpy as np\n",
    "import pandas as pd"
   ]
  },
  {
   "cell_type": "code",
   "execution_count": 34,
   "id": "dacfcb22",
   "metadata": {},
   "outputs": [
    {
     "name": "stderr",
     "output_type": "stream",
     "text": [
      "huggingface/tokenizers: The current process just got forked, after parallelism has already been used. Disabling parallelism to avoid deadlocks...\n",
      "To disable this warning, you can either:\n",
      "\t- Avoid using `tokenizers` before the fork if possible\n",
      "\t- Explicitly set the environment variable TOKENIZERS_PARALLELISM=(true | false)\n"
     ]
    },
    {
     "name": "stdout",
     "output_type": "stream",
     "text": [
      "Requirement already satisfied: transformers in /Users/jtr/.pyenv/versions/3.10.6/envs/song-sentiment-recommendation/lib/python3.10/site-packages (4.42.4)\n",
      "Requirement already satisfied: torch in /Users/jtr/.pyenv/versions/3.10.6/envs/song-sentiment-recommendation/lib/python3.10/site-packages (2.2.2)\n",
      "Requirement already satisfied: pytesseract in /Users/jtr/.pyenv/versions/3.10.6/envs/song-sentiment-recommendation/lib/python3.10/site-packages (0.3.10)\n",
      "Requirement already satisfied: filelock in /Users/jtr/.pyenv/versions/3.10.6/envs/song-sentiment-recommendation/lib/python3.10/site-packages (from transformers) (3.15.4)\n",
      "Requirement already satisfied: huggingface-hub<1.0,>=0.23.2 in /Users/jtr/.pyenv/versions/3.10.6/envs/song-sentiment-recommendation/lib/python3.10/site-packages (from transformers) (0.23.4)\n",
      "Requirement already satisfied: numpy<2.0,>=1.17 in /Users/jtr/.pyenv/versions/3.10.6/envs/song-sentiment-recommendation/lib/python3.10/site-packages (from transformers) (1.26.4)\n",
      "Requirement already satisfied: packaging>=20.0 in /Users/jtr/.pyenv/versions/3.10.6/envs/song-sentiment-recommendation/lib/python3.10/site-packages (from transformers) (24.1)\n",
      "Requirement already satisfied: pyyaml>=5.1 in /Users/jtr/.pyenv/versions/3.10.6/envs/song-sentiment-recommendation/lib/python3.10/site-packages (from transformers) (6.0.1)\n",
      "Requirement already satisfied: regex!=2019.12.17 in /Users/jtr/.pyenv/versions/3.10.6/envs/song-sentiment-recommendation/lib/python3.10/site-packages (from transformers) (2024.5.15)\n",
      "Requirement already satisfied: requests in /Users/jtr/.pyenv/versions/3.10.6/envs/song-sentiment-recommendation/lib/python3.10/site-packages (from transformers) (2.32.3)\n",
      "Requirement already satisfied: safetensors>=0.4.1 in /Users/jtr/.pyenv/versions/3.10.6/envs/song-sentiment-recommendation/lib/python3.10/site-packages (from transformers) (0.4.3)\n",
      "Requirement already satisfied: tokenizers<0.20,>=0.19 in /Users/jtr/.pyenv/versions/3.10.6/envs/song-sentiment-recommendation/lib/python3.10/site-packages (from transformers) (0.19.1)\n",
      "Requirement already satisfied: tqdm>=4.27 in /Users/jtr/.pyenv/versions/3.10.6/envs/song-sentiment-recommendation/lib/python3.10/site-packages (from transformers) (4.66.4)\n",
      "Requirement already satisfied: typing-extensions>=4.8.0 in /Users/jtr/.pyenv/versions/3.10.6/envs/song-sentiment-recommendation/lib/python3.10/site-packages (from torch) (4.12.2)\n",
      "Requirement already satisfied: sympy in /Users/jtr/.pyenv/versions/3.10.6/envs/song-sentiment-recommendation/lib/python3.10/site-packages (from torch) (1.13.0)\n",
      "Requirement already satisfied: networkx in /Users/jtr/.pyenv/versions/3.10.6/envs/song-sentiment-recommendation/lib/python3.10/site-packages (from torch) (3.3)\n",
      "Requirement already satisfied: jinja2 in /Users/jtr/.pyenv/versions/3.10.6/envs/song-sentiment-recommendation/lib/python3.10/site-packages (from torch) (3.1.4)\n",
      "Requirement already satisfied: fsspec in /Users/jtr/.pyenv/versions/3.10.6/envs/song-sentiment-recommendation/lib/python3.10/site-packages (from torch) (2024.6.1)\n",
      "Requirement already satisfied: Pillow>=8.0.0 in /Users/jtr/.pyenv/versions/3.10.6/envs/song-sentiment-recommendation/lib/python3.10/site-packages (from pytesseract) (10.4.0)\n",
      "Requirement already satisfied: MarkupSafe>=2.0 in /Users/jtr/.pyenv/versions/3.10.6/envs/song-sentiment-recommendation/lib/python3.10/site-packages (from jinja2->torch) (2.1.5)\n",
      "Requirement already satisfied: charset-normalizer<4,>=2 in /Users/jtr/.pyenv/versions/3.10.6/envs/song-sentiment-recommendation/lib/python3.10/site-packages (from requests->transformers) (3.3.2)\n",
      "Requirement already satisfied: idna<4,>=2.5 in /Users/jtr/.pyenv/versions/3.10.6/envs/song-sentiment-recommendation/lib/python3.10/site-packages (from requests->transformers) (3.7)\n",
      "Requirement already satisfied: urllib3<3,>=1.21.1 in /Users/jtr/.pyenv/versions/3.10.6/envs/song-sentiment-recommendation/lib/python3.10/site-packages (from requests->transformers) (2.2.2)\n",
      "Requirement already satisfied: certifi>=2017.4.17 in /Users/jtr/.pyenv/versions/3.10.6/envs/song-sentiment-recommendation/lib/python3.10/site-packages (from requests->transformers) (2024.7.4)\n",
      "Requirement already satisfied: mpmath<1.4,>=1.1.0 in /Users/jtr/.pyenv/versions/3.10.6/envs/song-sentiment-recommendation/lib/python3.10/site-packages (from sympy->torch) (1.3.0)\n"
     ]
    }
   ],
   "source": [
    "! pip install transformers torch pytesseract"
   ]
  },
  {
   "cell_type": "code",
   "execution_count": 38,
   "id": "81e1e4a8",
   "metadata": {},
   "outputs": [],
   "source": [
    "# ! pip install sentencepiece sacremoses"
   ]
  },
  {
   "cell_type": "code",
   "execution_count": 39,
   "id": "954a7f8b",
   "metadata": {},
   "outputs": [
    {
     "name": "stderr",
     "output_type": "stream",
     "text": [
      "Some weights of the model checkpoint at cardiffnlp/twitter-roberta-base-sentiment-latest were not used when initializing RobertaForSequenceClassification: ['roberta.pooler.dense.bias', 'roberta.pooler.dense.weight']\n",
      "- This IS expected if you are initializing RobertaForSequenceClassification from the checkpoint of a model trained on another task or with another architecture (e.g. initializing a BertForSequenceClassification model from a BertForPreTraining model).\n",
      "- This IS NOT expected if you are initializing RobertaForSequenceClassification from the checkpoint of a model that you expect to be exactly identical (initializing a BertForSequenceClassification model from a BertForSequenceClassification model).\n"
     ]
    }
   ],
   "source": [
    "from transformers import pipeline\n",
    "\n",
    "pipe = pipeline(model= \"cardiffnlp/twitter-roberta-base-sentiment-latest\")"
   ]
  },
  {
   "cell_type": "code",
   "execution_count": 45,
   "id": "900ffb31",
   "metadata": {},
   "outputs": [
    {
     "data": {
      "text/plain": [
       "{'label': 'positive', 'score': 0.47886452078819275}"
      ]
     },
     "execution_count": 45,
     "metadata": {},
     "output_type": "execute_result"
    }
   ],
   "source": [
    "pipe(\"I had a rather boring day, but not that bad. Let's listen to some music to cheer up\")[0]"
   ]
  },
  {
   "cell_type": "markdown",
   "id": "39d01c8a",
   "metadata": {},
   "source": [
    "# Spotify"
   ]
  },
  {
   "cell_type": "code",
   "execution_count": 93,
   "id": "9e7714e6",
   "metadata": {},
   "outputs": [],
   "source": [
    "import os\n",
    "import time\n",
    "import spotipy\n",
    "from spotipy.oauth2 import SpotifyClientCredentials\n",
    "\n",
    "class ApiExtractor:\n",
    "    def __init__(self, se=None):\n",
    "        '''\n",
    "        Extractor class\n",
    "        Input: preprocessor class dataset extracted from spotify API\n",
    "        '''\n",
    "        # credentials need to be exported via the command line\n",
    "        self.auth_manager = SpotifyClientCredentials()\n",
    "\n",
    "        self.sp_connection = spotipy.Spotify(auth_manager=self.auth_manager)\n",
    "        self.search_limit = 10\n",
    "        self.se = se\n",
    "\n",
    "    def get_track_base_attrs(self, title, artist):\n",
    "        '''\n",
    "        Function that returns the basic features of a desired song\n",
    "        if it's not present in the local dataset\n",
    "        '''\n",
    "        self.ta_response = self.sp_connection.search(\n",
    "            q=\"artist:\" + artist + \" track:\" + title,\n",
    "            type=\"track\",\n",
    "            limit=1)\n",
    "        print(self.ta_response)\n",
    "\n",
    "        # parse attributes from track\n",
    "        self.track = self.ta_response['tracks']['items'][0]\n",
    "\n",
    "        self.track_id = self.track['id']\n",
    "        self.track_name = self.track['name']\n",
    "        self.track_uri = self.track['uri']\n",
    "        self.track_popularity = self.track['popularity']\n",
    "        self.track_explicit = self.track['explicit']\n",
    "        self.track_artists = [artist['name'] for artist in self.track['artists']]\n",
    "\n",
    "        # get track features\n",
    "        self.track_features = self.sp_connection.audio_features(tracks = self.track_uri)[0]\n",
    "\n",
    "        return [self.track_name, self.track_artists, self.track_id, self.track_popularity,\n",
    "                self.track_features['danceability'], self.track_features['valence'],\n",
    "                self.track_features['energy'], self.track_explicit, self.track_features['key'],\n",
    "                self.track_features['liveness'], self.track_features['loudness'],\n",
    "                self.track_features['speechiness'], self.track_features['tempo']]\n"
   ]
  },
  {
   "cell_type": "code",
   "execution_count": 94,
   "id": "5ebaa7d5",
   "metadata": {},
   "outputs": [
    {
     "name": "stdout",
     "output_type": "stream",
     "text": [
      "{'tracks': {'href': 'https://api.spotify.com/v1/search?query=artist%3AThe+Weeknd+track%3ABlinding+Lights&type=track&offset=0&limit=1', 'items': [{'album': {'album_type': 'album', 'artists': [{'external_urls': {'spotify': 'https://open.spotify.com/artist/1Xyo4u8uXC1ZmMpatF05PJ'}, 'href': 'https://api.spotify.com/v1/artists/1Xyo4u8uXC1ZmMpatF05PJ', 'id': '1Xyo4u8uXC1ZmMpatF05PJ', 'name': 'The Weeknd', 'type': 'artist', 'uri': 'spotify:artist:1Xyo4u8uXC1ZmMpatF05PJ'}], 'available_markets': ['AR', 'AU', 'AT', 'BE', 'BO', 'BR', 'BG', 'CA', 'CL', 'CO', 'CR', 'CY', 'CZ', 'DK', 'DO', 'DE', 'EC', 'EE', 'SV', 'FI', 'FR', 'GR', 'GT', 'HN', 'HK', 'HU', 'IS', 'IE', 'IT', 'LV', 'LT', 'LU', 'MY', 'MT', 'MX', 'NL', 'NZ', 'NI', 'NO', 'PA', 'PY', 'PE', 'PH', 'PL', 'PT', 'SG', 'SK', 'ES', 'SE', 'CH', 'TW', 'TR', 'UY', 'US', 'GB', 'AD', 'LI', 'MC', 'ID', 'JP', 'TH', 'VN', 'RO', 'IL', 'ZA', 'SA', 'AE', 'BH', 'QA', 'OM', 'KW', 'EG', 'MA', 'DZ', 'TN', 'LB', 'JO', 'PS', 'IN', 'BY', 'KZ', 'MD', 'UA', 'AL', 'BA', 'HR', 'ME', 'MK', 'RS', 'SI', 'KR', 'BD', 'PK', 'LK', 'GH', 'KE', 'NG', 'TZ', 'UG', 'AG', 'AM', 'BS', 'BB', 'BZ', 'BT', 'BW', 'BF', 'CV', 'CW', 'DM', 'FJ', 'GM', 'GE', 'GD', 'GW', 'GY', 'HT', 'JM', 'KI', 'LS', 'LR', 'MW', 'MV', 'ML', 'MH', 'FM', 'NA', 'NR', 'NE', 'PW', 'PG', 'WS', 'SM', 'ST', 'SN', 'SC', 'SL', 'SB', 'KN', 'LC', 'VC', 'SR', 'TL', 'TO', 'TT', 'TV', 'VU', 'AZ', 'BN', 'BI', 'KH', 'CM', 'TD', 'KM', 'GQ', 'SZ', 'GA', 'GN', 'KG', 'LA', 'MO', 'MR', 'MN', 'NP', 'RW', 'TG', 'UZ', 'ZW', 'BJ', 'MG', 'MU', 'MZ', 'AO', 'CI', 'DJ', 'ZM', 'CD', 'CG', 'IQ', 'LY', 'TJ', 'VE', 'ET', 'XK'], 'external_urls': {'spotify': 'https://open.spotify.com/album/4yP0hdKOZPNshxUOjY0cZj'}, 'href': 'https://api.spotify.com/v1/albums/4yP0hdKOZPNshxUOjY0cZj', 'id': '4yP0hdKOZPNshxUOjY0cZj', 'images': [{'height': 640, 'url': 'https://i.scdn.co/image/ab67616d0000b2738863bc11d2aa12b54f5aeb36', 'width': 640}, {'height': 300, 'url': 'https://i.scdn.co/image/ab67616d00001e028863bc11d2aa12b54f5aeb36', 'width': 300}, {'height': 64, 'url': 'https://i.scdn.co/image/ab67616d000048518863bc11d2aa12b54f5aeb36', 'width': 64}], 'name': 'After Hours', 'release_date': '2020-03-20', 'release_date_precision': 'day', 'total_tracks': 14, 'type': 'album', 'uri': 'spotify:album:4yP0hdKOZPNshxUOjY0cZj'}, 'artists': [{'external_urls': {'spotify': 'https://open.spotify.com/artist/1Xyo4u8uXC1ZmMpatF05PJ'}, 'href': 'https://api.spotify.com/v1/artists/1Xyo4u8uXC1ZmMpatF05PJ', 'id': '1Xyo4u8uXC1ZmMpatF05PJ', 'name': 'The Weeknd', 'type': 'artist', 'uri': 'spotify:artist:1Xyo4u8uXC1ZmMpatF05PJ'}], 'available_markets': ['AR', 'AU', 'AT', 'BE', 'BO', 'BR', 'BG', 'CA', 'CL', 'CO', 'CR', 'CY', 'CZ', 'DK', 'DO', 'DE', 'EC', 'EE', 'SV', 'FI', 'FR', 'GR', 'GT', 'HN', 'HK', 'HU', 'IS', 'IE', 'IT', 'LV', 'LT', 'LU', 'MY', 'MT', 'MX', 'NL', 'NZ', 'NI', 'NO', 'PA', 'PY', 'PE', 'PH', 'PL', 'PT', 'SG', 'SK', 'ES', 'SE', 'CH', 'TW', 'TR', 'UY', 'US', 'GB', 'AD', 'LI', 'MC', 'ID', 'JP', 'TH', 'VN', 'RO', 'IL', 'ZA', 'SA', 'AE', 'BH', 'QA', 'OM', 'KW', 'EG', 'MA', 'DZ', 'TN', 'LB', 'JO', 'PS', 'IN', 'BY', 'KZ', 'MD', 'UA', 'AL', 'BA', 'HR', 'ME', 'MK', 'RS', 'SI', 'KR', 'BD', 'PK', 'LK', 'GH', 'KE', 'NG', 'TZ', 'UG', 'AG', 'AM', 'BS', 'BB', 'BZ', 'BT', 'BW', 'BF', 'CV', 'CW', 'DM', 'FJ', 'GM', 'GE', 'GD', 'GW', 'GY', 'HT', 'JM', 'KI', 'LS', 'LR', 'MW', 'MV', 'ML', 'MH', 'FM', 'NA', 'NR', 'NE', 'PW', 'PG', 'WS', 'SM', 'ST', 'SN', 'SC', 'SL', 'SB', 'KN', 'LC', 'VC', 'SR', 'TL', 'TO', 'TT', 'TV', 'VU', 'AZ', 'BN', 'BI', 'KH', 'CM', 'TD', 'KM', 'GQ', 'SZ', 'GA', 'GN', 'KG', 'LA', 'MO', 'MR', 'MN', 'NP', 'RW', 'TG', 'UZ', 'ZW', 'BJ', 'MG', 'MU', 'MZ', 'AO', 'CI', 'DJ', 'ZM', 'CD', 'CG', 'IQ', 'LY', 'TJ', 'VE', 'ET', 'XK'], 'disc_number': 1, 'duration_ms': 200040, 'explicit': False, 'external_ids': {'isrc': 'USUG11904206'}, 'external_urls': {'spotify': 'https://open.spotify.com/track/0VjIjW4GlUZAMYd2vXMi3b'}, 'href': 'https://api.spotify.com/v1/tracks/0VjIjW4GlUZAMYd2vXMi3b', 'id': '0VjIjW4GlUZAMYd2vXMi3b', 'is_local': False, 'name': 'Blinding Lights', 'popularity': 88, 'preview_url': None, 'track_number': 9, 'type': 'track', 'uri': 'spotify:track:0VjIjW4GlUZAMYd2vXMi3b'}], 'limit': 1, 'next': 'https://api.spotify.com/v1/search?query=artist%3AThe+Weeknd+track%3ABlinding+Lights&type=track&offset=1&limit=1', 'offset': 0, 'previous': None, 'total': 100}}\n"
     ]
    },
    {
     "data": {
      "text/plain": [
       "['Blinding Lights',\n",
       " ['The Weeknd'],\n",
       " '0VjIjW4GlUZAMYd2vXMi3b',\n",
       " 88,\n",
       " 0.513,\n",
       " 0.334,\n",
       " 0.73,\n",
       " False,\n",
       " 1,\n",
       " 0.0897,\n",
       " -5.94,\n",
       " 0.0598,\n",
       " 171.001]"
      ]
     },
     "execution_count": 94,
     "metadata": {},
     "output_type": "execute_result"
    }
   ],
   "source": [
    "spe = ApiExtractor()\n",
    "\n",
    "spe.get_track_base_attrs('Blinding Lights', 'The Weeknd')"
   ]
  },
  {
   "cell_type": "code",
   "execution_count": 92,
   "id": "667a8a6d",
   "metadata": {},
   "outputs": [
    {
     "name": "stdout",
     "output_type": "stream",
     "text": [
      "{'tracks': {'href': 'https://api.spotify.com/v1/search?query=artist%3ARodriguez+track%3ASugar+Man&type=track&offset=0&limit=1', 'items': [{'album': {'album_type': 'album', 'artists': [{'external_urls': {'spotify': 'https://open.spotify.com/artist/5PrHzxc3kFm4hIrGNmelpX'}, 'href': 'https://api.spotify.com/v1/artists/5PrHzxc3kFm4hIrGNmelpX', 'id': '5PrHzxc3kFm4hIrGNmelpX', 'name': 'Rodríguez', 'type': 'artist', 'uri': 'spotify:artist:5PrHzxc3kFm4hIrGNmelpX'}], 'available_markets': ['AR', 'AU', 'AT', 'BE', 'BO', 'BR', 'BG', 'CA', 'CL', 'CO', 'CR', 'CY', 'CZ', 'DK', 'DO', 'DE', 'EC', 'EE', 'SV', 'FI', 'FR', 'GR', 'GT', 'HN', 'HK', 'HU', 'IS', 'IE', 'IT', 'LV', 'LT', 'LU', 'MY', 'MT', 'MX', 'NL', 'NZ', 'NI', 'NO', 'PA', 'PY', 'PE', 'PH', 'PL', 'PT', 'SG', 'SK', 'ES', 'SE', 'CH', 'TW', 'TR', 'UY', 'US', 'GB', 'AD', 'LI', 'MC', 'ID', 'JP', 'TH', 'VN', 'RO', 'IL', 'ZA', 'SA', 'AE', 'BH', 'QA', 'OM', 'KW', 'EG', 'MA', 'DZ', 'TN', 'LB', 'JO', 'PS', 'IN', 'BY', 'KZ', 'MD', 'UA', 'AL', 'BA', 'HR', 'ME', 'MK', 'RS', 'SI', 'KR', 'BD', 'PK', 'LK', 'GH', 'KE', 'NG', 'TZ', 'UG', 'AG', 'AM', 'BS', 'BB', 'BZ', 'BT', 'BW', 'BF', 'CV', 'CW', 'DM', 'FJ', 'GM', 'GE', 'GD', 'GW', 'GY', 'HT', 'JM', 'KI', 'LS', 'LR', 'MW', 'MV', 'ML', 'MH', 'FM', 'NA', 'NR', 'NE', 'PW', 'PG', 'WS', 'SM', 'ST', 'SN', 'SC', 'SL', 'SB', 'KN', 'LC', 'VC', 'SR', 'TL', 'TO', 'TT', 'TV', 'VU', 'AZ', 'BN', 'BI', 'KH', 'CM', 'TD', 'KM', 'GQ', 'SZ', 'GA', 'GN', 'KG', 'LA', 'MO', 'MR', 'MN', 'NP', 'RW', 'TG', 'UZ', 'ZW', 'BJ', 'MG', 'MU', 'MZ', 'AO', 'CI', 'DJ', 'ZM', 'CD', 'CG', 'IQ', 'LY', 'TJ', 'VE', 'ET', 'XK'], 'external_urls': {'spotify': 'https://open.spotify.com/album/3q90UAYeHLvAtnowiQlmgp'}, 'href': 'https://api.spotify.com/v1/albums/3q90UAYeHLvAtnowiQlmgp', 'id': '3q90UAYeHLvAtnowiQlmgp', 'images': [{'height': 640, 'url': 'https://i.scdn.co/image/ab67616d0000b273e7e1b574a9e6b9f26c7c3f49', 'width': 640}, {'height': 300, 'url': 'https://i.scdn.co/image/ab67616d00001e02e7e1b574a9e6b9f26c7c3f49', 'width': 300}, {'height': 64, 'url': 'https://i.scdn.co/image/ab67616d00004851e7e1b574a9e6b9f26c7c3f49', 'width': 64}], 'name': 'Cold Fact', 'release_date': '1970-03-05', 'release_date_precision': 'day', 'total_tracks': 12, 'type': 'album', 'uri': 'spotify:album:3q90UAYeHLvAtnowiQlmgp'}, 'artists': [{'external_urls': {'spotify': 'https://open.spotify.com/artist/5PrHzxc3kFm4hIrGNmelpX'}, 'href': 'https://api.spotify.com/v1/artists/5PrHzxc3kFm4hIrGNmelpX', 'id': '5PrHzxc3kFm4hIrGNmelpX', 'name': 'Rodríguez', 'type': 'artist', 'uri': 'spotify:artist:5PrHzxc3kFm4hIrGNmelpX'}], 'available_markets': ['AR', 'AU', 'AT', 'BE', 'BO', 'BR', 'BG', 'CA', 'CL', 'CO', 'CR', 'CY', 'CZ', 'DK', 'DO', 'DE', 'EC', 'EE', 'SV', 'FI', 'FR', 'GR', 'GT', 'HN', 'HK', 'HU', 'IS', 'IE', 'IT', 'LV', 'LT', 'LU', 'MY', 'MT', 'MX', 'NL', 'NZ', 'NI', 'NO', 'PA', 'PY', 'PE', 'PH', 'PL', 'PT', 'SG', 'SK', 'ES', 'SE', 'CH', 'TW', 'TR', 'UY', 'US', 'GB', 'AD', 'LI', 'MC', 'ID', 'JP', 'TH', 'VN', 'RO', 'IL', 'ZA', 'SA', 'AE', 'BH', 'QA', 'OM', 'KW', 'EG', 'MA', 'DZ', 'TN', 'LB', 'JO', 'PS', 'IN', 'BY', 'KZ', 'MD', 'UA', 'AL', 'BA', 'HR', 'ME', 'MK', 'RS', 'SI', 'KR', 'BD', 'PK', 'LK', 'GH', 'KE', 'NG', 'TZ', 'UG', 'AG', 'AM', 'BS', 'BB', 'BZ', 'BT', 'BW', 'BF', 'CV', 'CW', 'DM', 'FJ', 'GM', 'GE', 'GD', 'GW', 'GY', 'HT', 'JM', 'KI', 'LS', 'LR', 'MW', 'MV', 'ML', 'MH', 'FM', 'NA', 'NR', 'NE', 'PW', 'PG', 'WS', 'SM', 'ST', 'SN', 'SC', 'SL', 'SB', 'KN', 'LC', 'VC', 'SR', 'TL', 'TO', 'TT', 'TV', 'VU', 'AZ', 'BN', 'BI', 'KH', 'CM', 'TD', 'KM', 'GQ', 'SZ', 'GA', 'GN', 'KG', 'LA', 'MO', 'MR', 'MN', 'NP', 'RW', 'TG', 'UZ', 'ZW', 'BJ', 'MG', 'MU', 'MZ', 'AO', 'CI', 'DJ', 'ZM', 'CD', 'CG', 'IQ', 'LY', 'TJ', 'VE', 'ET', 'XK'], 'disc_number': 1, 'duration_ms': 229413, 'explicit': False, 'external_ids': {'isrc': 'USUM71810955'}, 'external_urls': {'spotify': 'https://open.spotify.com/track/17nOJOcPbcl4sKzM2yyYDp'}, 'href': 'https://api.spotify.com/v1/tracks/17nOJOcPbcl4sKzM2yyYDp', 'id': '17nOJOcPbcl4sKzM2yyYDp', 'is_local': False, 'name': 'Sugar Man', 'popularity': 59, 'preview_url': None, 'track_number': 1, 'type': 'track', 'uri': 'spotify:track:17nOJOcPbcl4sKzM2yyYDp'}], 'limit': 1, 'next': 'https://api.spotify.com/v1/search?query=artist%3ARodriguez+track%3ASugar+Man&type=track&offset=1&limit=1', 'offset': 0, 'previous': None, 'total': 4}}\n"
     ]
    },
    {
     "data": {
      "text/plain": [
       "['Sugar Man',\n",
       " ['Rodríguez'],\n",
       " '17nOJOcPbcl4sKzM2yyYDp',\n",
       " 59,\n",
       " 0.463,\n",
       " 0.43,\n",
       " 0.577,\n",
       " False,\n",
       " 5,\n",
       " 0.598,\n",
       " -6.542,\n",
       " 0.043,\n",
       " 97.83]"
      ]
     },
     "execution_count": 92,
     "metadata": {},
     "output_type": "execute_result"
    }
   ],
   "source": [
    "spe.get_track_base_attrs('Sugar Man', 'Rodriguez')"
   ]
  }
 ],
 "metadata": {
  "kernelspec": {
   "display_name": "Python 3 (ipykernel)",
   "language": "python",
   "name": "python3"
  },
  "language_info": {
   "codemirror_mode": {
    "name": "ipython",
    "version": 3
   },
   "file_extension": ".py",
   "mimetype": "text/x-python",
   "name": "python",
   "nbconvert_exporter": "python",
   "pygments_lexer": "ipython3",
   "version": "3.10.6"
  },
  "toc": {
   "base_numbering": 1,
   "nav_menu": {},
   "number_sections": true,
   "sideBar": true,
   "skip_h1_title": false,
   "title_cell": "Table of Contents",
   "title_sidebar": "Contents",
   "toc_cell": false,
   "toc_position": {},
   "toc_section_display": true,
   "toc_window_display": false
  }
 },
 "nbformat": 4,
 "nbformat_minor": 5
}
