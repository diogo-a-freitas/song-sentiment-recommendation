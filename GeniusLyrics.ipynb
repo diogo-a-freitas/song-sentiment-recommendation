{
 "cells": [
  {
   "cell_type": "markdown",
   "id": "e5903739-03b3-4bcb-bd89-b8a12e315f9c",
   "metadata": {},
   "source": [
    "### Genius Lyrics"
   ]
  },
  {
   "cell_type": "code",
   "execution_count": 22,
   "id": "6ad7fb75-3acd-4022-bbf9-cc1eabd91635",
   "metadata": {},
   "outputs": [],
   "source": [
    "import pandas as pd\n",
    "import re"
   ]
  },
  {
   "cell_type": "code",
   "execution_count": 9,
   "id": "e9e92bef-4d09-4ac0-86ca-ee51e85e2e10",
   "metadata": {},
   "outputs": [],
   "source": [
    "lyrics_chunk = pd.read_csv(\"raw_data/song_lyrics.csv\", chunksize=5000)"
   ]
  },
  {
   "cell_type": "code",
   "execution_count": 10,
   "id": "47f4cebe-e333-4ee1-b9b2-8682ad9fa5f7",
   "metadata": {},
   "outputs": [],
   "source": [
    "lyrics = next(lyrics_chunk)"
   ]
  },
  {
   "cell_type": "code",
   "execution_count": 11,
   "id": "96f6864a-a150-47c9-822b-5ea2649bf203",
   "metadata": {},
   "outputs": [
    {
     "data": {
      "text/html": [
       "<div>\n",
       "<style scoped>\n",
       "    .dataframe tbody tr th:only-of-type {\n",
       "        vertical-align: middle;\n",
       "    }\n",
       "\n",
       "    .dataframe tbody tr th {\n",
       "        vertical-align: top;\n",
       "    }\n",
       "\n",
       "    .dataframe thead th {\n",
       "        text-align: right;\n",
       "    }\n",
       "</style>\n",
       "<table border=\"1\" class=\"dataframe\">\n",
       "  <thead>\n",
       "    <tr style=\"text-align: right;\">\n",
       "      <th></th>\n",
       "      <th>title</th>\n",
       "      <th>tag</th>\n",
       "      <th>artist</th>\n",
       "      <th>year</th>\n",
       "      <th>views</th>\n",
       "      <th>features</th>\n",
       "      <th>lyrics</th>\n",
       "      <th>id</th>\n",
       "      <th>language_cld3</th>\n",
       "      <th>language_ft</th>\n",
       "      <th>language</th>\n",
       "    </tr>\n",
       "  </thead>\n",
       "  <tbody>\n",
       "    <tr>\n",
       "      <th>0</th>\n",
       "      <td>Killa Cam</td>\n",
       "      <td>rap</td>\n",
       "      <td>Cam'ron</td>\n",
       "      <td>2004</td>\n",
       "      <td>173166</td>\n",
       "      <td>{\"Cam\\\\'ron\",\"Opera Steve\"}</td>\n",
       "      <td>[Chorus: Opera Steve &amp; Cam'ron]\\nKilla Cam, Ki...</td>\n",
       "      <td>1</td>\n",
       "      <td>en</td>\n",
       "      <td>en</td>\n",
       "      <td>en</td>\n",
       "    </tr>\n",
       "    <tr>\n",
       "      <th>1</th>\n",
       "      <td>Can I Live</td>\n",
       "      <td>rap</td>\n",
       "      <td>JAY-Z</td>\n",
       "      <td>1996</td>\n",
       "      <td>468624</td>\n",
       "      <td>{}</td>\n",
       "      <td>[Produced by Irv Gotti]\\n\\n[Intro]\\nYeah, hah,...</td>\n",
       "      <td>3</td>\n",
       "      <td>en</td>\n",
       "      <td>en</td>\n",
       "      <td>en</td>\n",
       "    </tr>\n",
       "    <tr>\n",
       "      <th>2</th>\n",
       "      <td>Forgive Me Father</td>\n",
       "      <td>rap</td>\n",
       "      <td>Fabolous</td>\n",
       "      <td>2003</td>\n",
       "      <td>4743</td>\n",
       "      <td>{}</td>\n",
       "      <td>Maybe cause I'm eatin\\nAnd these bastards fien...</td>\n",
       "      <td>4</td>\n",
       "      <td>en</td>\n",
       "      <td>en</td>\n",
       "      <td>en</td>\n",
       "    </tr>\n",
       "    <tr>\n",
       "      <th>3</th>\n",
       "      <td>Down and Out</td>\n",
       "      <td>rap</td>\n",
       "      <td>Cam'ron</td>\n",
       "      <td>2004</td>\n",
       "      <td>144404</td>\n",
       "      <td>{\"Cam\\\\'ron\",\"Kanye West\",\"Syleena Johnson\"}</td>\n",
       "      <td>[Produced by Kanye West and Brian Miller]\\n\\n[...</td>\n",
       "      <td>5</td>\n",
       "      <td>en</td>\n",
       "      <td>en</td>\n",
       "      <td>en</td>\n",
       "    </tr>\n",
       "    <tr>\n",
       "      <th>4</th>\n",
       "      <td>Fly In</td>\n",
       "      <td>rap</td>\n",
       "      <td>Lil Wayne</td>\n",
       "      <td>2005</td>\n",
       "      <td>78271</td>\n",
       "      <td>{}</td>\n",
       "      <td>[Intro]\\nSo they ask me\\n\"Young boy\\nWhat you ...</td>\n",
       "      <td>6</td>\n",
       "      <td>en</td>\n",
       "      <td>en</td>\n",
       "      <td>en</td>\n",
       "    </tr>\n",
       "  </tbody>\n",
       "</table>\n",
       "</div>"
      ],
      "text/plain": [
       "               title  tag     artist  year   views  \\\n",
       "0          Killa Cam  rap    Cam'ron  2004  173166   \n",
       "1         Can I Live  rap      JAY-Z  1996  468624   \n",
       "2  Forgive Me Father  rap   Fabolous  2003    4743   \n",
       "3       Down and Out  rap    Cam'ron  2004  144404   \n",
       "4             Fly In  rap  Lil Wayne  2005   78271   \n",
       "\n",
       "                                       features  \\\n",
       "0                   {\"Cam\\\\'ron\",\"Opera Steve\"}   \n",
       "1                                            {}   \n",
       "2                                            {}   \n",
       "3  {\"Cam\\\\'ron\",\"Kanye West\",\"Syleena Johnson\"}   \n",
       "4                                            {}   \n",
       "\n",
       "                                              lyrics  id language_cld3  \\\n",
       "0  [Chorus: Opera Steve & Cam'ron]\\nKilla Cam, Ki...   1            en   \n",
       "1  [Produced by Irv Gotti]\\n\\n[Intro]\\nYeah, hah,...   3            en   \n",
       "2  Maybe cause I'm eatin\\nAnd these bastards fien...   4            en   \n",
       "3  [Produced by Kanye West and Brian Miller]\\n\\n[...   5            en   \n",
       "4  [Intro]\\nSo they ask me\\n\"Young boy\\nWhat you ...   6            en   \n",
       "\n",
       "  language_ft language  \n",
       "0          en       en  \n",
       "1          en       en  \n",
       "2          en       en  \n",
       "3          en       en  \n",
       "4          en       en  "
      ]
     },
     "execution_count": 11,
     "metadata": {},
     "output_type": "execute_result"
    }
   ],
   "source": [
    "lyrics.head()"
   ]
  },
  {
   "cell_type": "code",
   "execution_count": 28,
   "id": "b64a86bf-fe51-40aa-a86e-025fe8927328",
   "metadata": {},
   "outputs": [],
   "source": [
    "def clean_lyrics(text):\n",
    "    text = text.replace(\"\\n\", \"\")  # Replace newline characters with space\n",
    "    text = re.sub(r'\\[.*?\\]', '', text)  # Remove text within brackets and the brackets"
   ]
  },
  {
   "cell_type": "code",
   "execution_count": 24,
   "id": "467c4679-45a6-44bf-b225-1b559193dfa4",
   "metadata": {},
   "outputs": [
    {
     "data": {
      "text/plain": [
       "'[Produced by Irv Gotti]\\n\\n[Intro]\\nYeah, hah, yeah, Roc-A-Fella\\nWe invite you to somethin\\' epic, you know?\\nWell, we hustle out of a sense of hopelessness\\nSort of a desperation\\nThrough that desperation, we become addicted\\nSort of like the fiends we accustomed to servin\\'\\nBut we feel we have nothin\\' to lose\\nSo, we offer you, well, we offer our lives, right?\\nWhat do you bring to the table?\\n\\n[Verse 1]\\nWhile I\\'m watchin\\' every nigga watchin\\' me closely\\nMy shit is butter for the bread, they wanna toast me\\nI keep my head, both of them, where they supposed to be\\nHoes\\'ll get you sidetracked, then clapped from close feet\\nI don\\'t sleep, I\\'m tired, I feel wired like codeine, these days\\nA brother gotta admire me from four fiends away\\nMy pain, wish it was quick to see\\nFrom sellin\\' \\'caine \\'til brains was fried to a fricassee\\nCan\\'t lie, at the time it never bothered me\\nAt the bar, gettin\\' my thug on properly\\nMy squad and me lack of respect for authority\\nLaughin\\' hard, happy to be escapin\\' poverty, however brief\\nI know this game got valleys and peaks\\nExpectation for dips, for precipitation we stack chips, hardly\\nThe youth I used to be, soon to see a mill\\'in\\nNo more Big Willie, my game has grown\\nPrefer you call me William\\nIllin\\' for revenues, Rayful Edmond-like\\nChannel 7 News, round seven jewels, head dead in the mic\\nForgettin\\' all I ever knew, convenient amnesia\\n\"I suggest you call my lawyer, I know the procedure.\"\\nLock my body, can\\'t trap my mind\\nEasily explain why we adapt to crime\\nI\\'d rather die enormous than live dormant, that\\'s how we on it\\nLive at the main event, I bet a trip to Maui on it\\nPresidential suites my residential for the weekend\\nConfidentially speakin\\' in codes since I sense you peekin\\'\\nThe NSX rental, don\\'t be fooled, my game is mental\\nWe both out of town, dog, what you tryin\\' to get into?\\nViva Las Vegas, see ya later at the crap tables\\nMeet me by the one that starts a G up\\nThis way no Fraud Willies present gamblin\\' they re-up\\nAnd we can have a pleasant time, sippin\\' margaritas\\n[Chorus]\\nGe-ge-geyeahhh\\nCan I live?\\nCan I live?\\n\\n[Verse 2]\\nMy mind is infested with sick thoughts that circle\\nLike a Lexus, if driven wrong it\\'s sure to hurt you\\nDual level like duplexes, in unity\\nMy crew and me commit atrocities like we got immunity\\nYou guessed it, manifest it\\nIn tangible goods, platinum Rolex\\'d it\\nWe don\\'t lease, we buy the whole car, as you should\\nMy confederation, dead a nation\\nExplode on detonation, overload the mind of a said patient\\nWhen it boils to steam, it comes to it\\nWe all fiends, gotta do it: even righteous minds go through this\\nTrue this, the streets school us to spend our money foolish\\nBond with jewelers and watch for intruders\\nI stepped it up another level, meditated like a Buddhist\\nRecruited lieutenants with ludicrous dreams of gettin\\' cream\\n\"Let\\'s do this,\" it gets tedious\\nSo I keep one eye open like CBS — you see me stressed, right?\\n\\n[Chorus]\\nCan I live?\\nCan I live?\\nCan I live?\\nCan I live?'"
      ]
     },
     "execution_count": 24,
     "metadata": {},
     "output_type": "execute_result"
    }
   ],
   "source": [
    "example = lyrics[\"lyrics\"][1]\n",
    "example"
   ]
  },
  {
   "cell_type": "code",
   "execution_count": 25,
   "id": "2932cb93-a63a-4176-9bc2-98816b89da5a",
   "metadata": {},
   "outputs": [
    {
     "data": {
      "text/plain": [
       "'   Yeah, hah, yeah, Roc-A-Fella We invite you to somethin\\' epic, you know? Well, we hustle out of a sense of hopelessness Sort of a desperation Through that desperation, we become addicted Sort of like the fiends we accustomed to servin\\' But we feel we have nothin\\' to lose So, we offer you, well, we offer our lives, right? What do you bring to the table?   While I\\'m watchin\\' every nigga watchin\\' me closely My shit is butter for the bread, they wanna toast me I keep my head, both of them, where they supposed to be Hoes\\'ll get you sidetracked, then clapped from close feet I don\\'t sleep, I\\'m tired, I feel wired like codeine, these days A brother gotta admire me from four fiends away My pain, wish it was quick to see From sellin\\' \\'caine \\'til brains was fried to a fricassee Can\\'t lie, at the time it never bothered me At the bar, gettin\\' my thug on properly My squad and me lack of respect for authority Laughin\\' hard, happy to be escapin\\' poverty, however brief I know this game got valleys and peaks Expectation for dips, for precipitation we stack chips, hardly The youth I used to be, soon to see a mill\\'in No more Big Willie, my game has grown Prefer you call me William Illin\\' for revenues, Rayful Edmond-like Channel 7 News, round seven jewels, head dead in the mic Forgettin\\' all I ever knew, convenient amnesia \"I suggest you call my lawyer, I know the procedure.\" Lock my body, can\\'t trap my mind Easily explain why we adapt to crime I\\'d rather die enormous than live dormant, that\\'s how we on it Live at the main event, I bet a trip to Maui on it Presidential suites my residential for the weekend Confidentially speakin\\' in codes since I sense you peekin\\' The NSX rental, don\\'t be fooled, my game is mental We both out of town, dog, what you tryin\\' to get into? Viva Las Vegas, see ya later at the crap tables Meet me by the one that starts a G up This way no Fraud Willies present gamblin\\' they re-up And we can have a pleasant time, sippin\\' margaritas  Ge-ge-geyeahhh Can I live? Can I live?   My mind is infested with sick thoughts that circle Like a Lexus, if driven wrong it\\'s sure to hurt you Dual level like duplexes, in unity My crew and me commit atrocities like we got immunity You guessed it, manifest it In tangible goods, platinum Rolex\\'d it We don\\'t lease, we buy the whole car, as you should My confederation, dead a nation Explode on detonation, overload the mind of a said patient When it boils to steam, it comes to it We all fiends, gotta do it: even righteous minds go through this True this, the streets school us to spend our money foolish Bond with jewelers and watch for intruders I stepped it up another level, meditated like a Buddhist Recruited lieutenants with ludicrous dreams of gettin\\' cream \"Let\\'s do this,\" it gets tedious So I keep one eye open like CBS — you see me stressed, right?   Can I live? Can I live? Can I live? Can I live?'"
      ]
     },
     "execution_count": 25,
     "metadata": {},
     "output_type": "execute_result"
    }
   ],
   "source": [
    "example_mod = clean_lyrics(example)\n",
    "example_mod"
   ]
  },
  {
   "cell_type": "code",
   "execution_count": null,
   "id": "797f1cb7-bb97-4aa9-b342-868b92a8df2b",
   "metadata": {},
   "outputs": [],
   "source": []
  }
 ],
 "metadata": {
  "kernelspec": {
   "display_name": "Python 3 (ipykernel)",
   "language": "python",
   "name": "python3"
  },
  "language_info": {
   "codemirror_mode": {
    "name": "ipython",
    "version": 3
   },
   "file_extension": ".py",
   "mimetype": "text/x-python",
   "name": "python",
   "nbconvert_exporter": "python",
   "pygments_lexer": "ipython3",
   "version": "3.10.6"
  }
 },
 "nbformat": 4,
 "nbformat_minor": 5
}
