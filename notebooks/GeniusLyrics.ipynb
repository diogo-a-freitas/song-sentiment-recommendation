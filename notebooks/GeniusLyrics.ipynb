{
 "cells": [
  {
   "cell_type": "markdown",
   "id": "e5903739-03b3-4bcb-bd89-b8a12e315f9c",
   "metadata": {},
   "source": [
    "### Genius Lyrics"
   ]
  },
  {
   "cell_type": "code",
   "execution_count": 1,
   "id": "c0004fbd",
   "metadata": {},
   "outputs": [
    {
     "name": "stdout",
     "output_type": "stream",
     "text": [
      "Requirement already satisfied: nltk in /Users/luismockler/.pyenv/versions/3.10.6/envs/song-sentiment-recommendation/lib/python3.10/site-packages (3.8.1)\n",
      "Requirement already satisfied: click in /Users/luismockler/.pyenv/versions/3.10.6/envs/song-sentiment-recommendation/lib/python3.10/site-packages (from nltk) (8.1.7)\n",
      "Requirement already satisfied: joblib in /Users/luismockler/.pyenv/versions/3.10.6/envs/song-sentiment-recommendation/lib/python3.10/site-packages (from nltk) (1.4.2)\n",
      "Requirement already satisfied: regex>=2021.8.3 in /Users/luismockler/.pyenv/versions/3.10.6/envs/song-sentiment-recommendation/lib/python3.10/site-packages (from nltk) (2024.5.15)\n",
      "Requirement already satisfied: tqdm in /Users/luismockler/.pyenv/versions/3.10.6/envs/song-sentiment-recommendation/lib/python3.10/site-packages (from nltk) (4.66.4)\n",
      "Note: you may need to restart the kernel to use updated packages.\n"
     ]
    }
   ],
   "source": [
    "pip install nltk"
   ]
  },
  {
   "cell_type": "code",
   "execution_count": 2,
   "id": "6ad7fb75-3acd-4022-bbf9-cc1eabd91635",
   "metadata": {},
   "outputs": [],
   "source": [
    "import pandas as pd\n",
    "import re\n",
    "import string\n",
    "from nltk.tokenize import word_tokenize\n",
    "from nltk.stem import WordNetLemmatizer"
   ]
  },
  {
   "cell_type": "code",
   "execution_count": 3,
   "id": "e9e92bef-4d09-4ac0-86ca-ee51e85e2e10",
   "metadata": {},
   "outputs": [],
   "source": [
    "lyrics_chunk = pd.read_csv(\"../raw_data/song_lyrics.csv\", chunksize=5000)"
   ]
  },
  {
   "cell_type": "code",
   "execution_count": 4,
   "id": "47f4cebe-e333-4ee1-b9b2-8682ad9fa5f7",
   "metadata": {},
   "outputs": [],
   "source": [
    "lyrics = next(lyrics_chunk)"
   ]
  },
  {
   "cell_type": "code",
   "execution_count": 5,
   "id": "96f6864a-a150-47c9-822b-5ea2649bf203",
   "metadata": {},
   "outputs": [
    {
     "data": {
      "text/html": [
       "<div>\n",
       "<style scoped>\n",
       "    .dataframe tbody tr th:only-of-type {\n",
       "        vertical-align: middle;\n",
       "    }\n",
       "\n",
       "    .dataframe tbody tr th {\n",
       "        vertical-align: top;\n",
       "    }\n",
       "\n",
       "    .dataframe thead th {\n",
       "        text-align: right;\n",
       "    }\n",
       "</style>\n",
       "<table border=\"1\" class=\"dataframe\">\n",
       "  <thead>\n",
       "    <tr style=\"text-align: right;\">\n",
       "      <th></th>\n",
       "      <th>title</th>\n",
       "      <th>tag</th>\n",
       "      <th>artist</th>\n",
       "      <th>year</th>\n",
       "      <th>views</th>\n",
       "      <th>features</th>\n",
       "      <th>lyrics</th>\n",
       "      <th>id</th>\n",
       "      <th>language_cld3</th>\n",
       "      <th>language_ft</th>\n",
       "      <th>language</th>\n",
       "    </tr>\n",
       "  </thead>\n",
       "  <tbody>\n",
       "    <tr>\n",
       "      <th>0</th>\n",
       "      <td>Killa Cam</td>\n",
       "      <td>rap</td>\n",
       "      <td>Cam'ron</td>\n",
       "      <td>2004</td>\n",
       "      <td>173166</td>\n",
       "      <td>{\"Cam\\\\'ron\",\"Opera Steve\"}</td>\n",
       "      <td>[Chorus: Opera Steve &amp; Cam'ron]\\nKilla Cam, Ki...</td>\n",
       "      <td>1</td>\n",
       "      <td>en</td>\n",
       "      <td>en</td>\n",
       "      <td>en</td>\n",
       "    </tr>\n",
       "    <tr>\n",
       "      <th>1</th>\n",
       "      <td>Can I Live</td>\n",
       "      <td>rap</td>\n",
       "      <td>JAY-Z</td>\n",
       "      <td>1996</td>\n",
       "      <td>468624</td>\n",
       "      <td>{}</td>\n",
       "      <td>[Produced by Irv Gotti]\\n\\n[Intro]\\nYeah, hah,...</td>\n",
       "      <td>3</td>\n",
       "      <td>en</td>\n",
       "      <td>en</td>\n",
       "      <td>en</td>\n",
       "    </tr>\n",
       "    <tr>\n",
       "      <th>2</th>\n",
       "      <td>Forgive Me Father</td>\n",
       "      <td>rap</td>\n",
       "      <td>Fabolous</td>\n",
       "      <td>2003</td>\n",
       "      <td>4743</td>\n",
       "      <td>{}</td>\n",
       "      <td>Maybe cause I'm eatin\\nAnd these bastards fien...</td>\n",
       "      <td>4</td>\n",
       "      <td>en</td>\n",
       "      <td>en</td>\n",
       "      <td>en</td>\n",
       "    </tr>\n",
       "    <tr>\n",
       "      <th>3</th>\n",
       "      <td>Down and Out</td>\n",
       "      <td>rap</td>\n",
       "      <td>Cam'ron</td>\n",
       "      <td>2004</td>\n",
       "      <td>144404</td>\n",
       "      <td>{\"Cam\\\\'ron\",\"Kanye West\",\"Syleena Johnson\"}</td>\n",
       "      <td>[Produced by Kanye West and Brian Miller]\\n\\n[...</td>\n",
       "      <td>5</td>\n",
       "      <td>en</td>\n",
       "      <td>en</td>\n",
       "      <td>en</td>\n",
       "    </tr>\n",
       "    <tr>\n",
       "      <th>4</th>\n",
       "      <td>Fly In</td>\n",
       "      <td>rap</td>\n",
       "      <td>Lil Wayne</td>\n",
       "      <td>2005</td>\n",
       "      <td>78271</td>\n",
       "      <td>{}</td>\n",
       "      <td>[Intro]\\nSo they ask me\\n\"Young boy\\nWhat you ...</td>\n",
       "      <td>6</td>\n",
       "      <td>en</td>\n",
       "      <td>en</td>\n",
       "      <td>en</td>\n",
       "    </tr>\n",
       "  </tbody>\n",
       "</table>\n",
       "</div>"
      ],
      "text/plain": [
       "               title  tag     artist  year   views  \\\n",
       "0          Killa Cam  rap    Cam'ron  2004  173166   \n",
       "1         Can I Live  rap      JAY-Z  1996  468624   \n",
       "2  Forgive Me Father  rap   Fabolous  2003    4743   \n",
       "3       Down and Out  rap    Cam'ron  2004  144404   \n",
       "4             Fly In  rap  Lil Wayne  2005   78271   \n",
       "\n",
       "                                       features  \\\n",
       "0                   {\"Cam\\\\'ron\",\"Opera Steve\"}   \n",
       "1                                            {}   \n",
       "2                                            {}   \n",
       "3  {\"Cam\\\\'ron\",\"Kanye West\",\"Syleena Johnson\"}   \n",
       "4                                            {}   \n",
       "\n",
       "                                              lyrics  id language_cld3  \\\n",
       "0  [Chorus: Opera Steve & Cam'ron]\\nKilla Cam, Ki...   1            en   \n",
       "1  [Produced by Irv Gotti]\\n\\n[Intro]\\nYeah, hah,...   3            en   \n",
       "2  Maybe cause I'm eatin\\nAnd these bastards fien...   4            en   \n",
       "3  [Produced by Kanye West and Brian Miller]\\n\\n[...   5            en   \n",
       "4  [Intro]\\nSo they ask me\\n\"Young boy\\nWhat you ...   6            en   \n",
       "\n",
       "  language_ft language  \n",
       "0          en       en  \n",
       "1          en       en  \n",
       "2          en       en  \n",
       "3          en       en  \n",
       "4          en       en  "
      ]
     },
     "execution_count": 5,
     "metadata": {},
     "output_type": "execute_result"
    }
   ],
   "source": [
    "lyrics.head()"
   ]
  },
  {
   "cell_type": "code",
   "execution_count": 24,
   "id": "d9356e42",
   "metadata": {},
   "outputs": [
    {
     "data": {
      "text/plain": [
       "'[Intro]\\nSo they ask me\\n\"Young boy\\nWhat you gon\\' do the second time around?\\nHow you gon\\' come back?\"\\nI tried told \\'em\\n\"I come back like 32\\nI jump back like 33\"\\nUgh, hit me\\nThat\\'s nothing\\nThis is Tha Carter II, people\\nThis is Tha Carter II, people\\nHey\\n\\n[Verse]\\nThey call me Mr. Carter, I kissed the daughter\\nOf the dead\\'s forehead, I killed the father\\nSpilled the heart of a mildew hater\\nI will put them body on chill like glaciers, gracias\\nI\\'m crazy, yes, it\\'s obvious\\nGoing against me is atheist\\nI got my angels on my shoulder and a quarter of that angel dust\\nI ain\\'t sniffing, I\\'m just pitching, your honor\\nI ain\\'t snitching, your honor\\nHate bitch niggas, bitches with power\\nVacate when that kitchen get hotter\\nI just sit on the counter\\nOpen the cabinet, close the cupboard\\nPut that jar in the skillet, drop a four in the bubbles\\nI remember being young, tryna hustle my dope\\nTryna tell the old junkies that my crack ain\\'t soap\\nTryna tell you \\'fore you jump that my MAC ain\\'t broke\\nYou ain\\'t tryna see how far that black back lane go, no\\nCall me Pac-Man, your ghost is blue\\nI got my Red River rubies and my ocean blue jewelry\\nUsually I\\'m a hooligan for the money\\nYeah, I\\'m eating, but I got a tapeworm in my tummy, oh\\nMake harm and I bomb you in public\\nHit you with the straight-arm, no warning, nothing\\nLook, it\\'s morning, no yawning or nothing\\nI ain\\'t sleeping, I\\'m up tryna take a nigga lunch\\nYou gon\\' make a nigga break a nigga fronts\\nThen shake a nigga shorts and we taking what we want\\nI\\'m so 504, you got to kill me here\\nIf you ever looking for me, bitch, I will be here\\nCash Money is an army, Navy Seal me here\\nLot of niggas ran from me, but I still be here\\nNo chrome on the Continental, I\\'m so fundamental\\nCrack the Phil\\', crack the roof, and roll up the windows\\nAnd my hood love me, they tell me bring it home\\nThat\\'s why I holler Hollygrove on each and every song\\nYou leaping at a dog, a dog with no bark\\nJust a bite like an old shark\\nAnd all you rich niggas know Pa, I\\'m talking \\'bout Stunna\\nHe like, \"Keep your dough,\" he got your ho\\nAnd the sun shines on the king and sets on the prince\\nI met the Birdman and I been shining ever since, like that'"
      ]
     },
     "execution_count": 24,
     "metadata": {},
     "output_type": "execute_result"
    }
   ],
   "source": [
    "lyrics[\"lyrics\"][4]"
   ]
  },
  {
   "cell_type": "code",
   "execution_count": 109,
   "id": "b64a86bf-fe51-40aa-a86e-025fe8927328",
   "metadata": {},
   "outputs": [],
   "source": [
    "def clean_lyrics(text):\n",
    "    text = text.replace(\"\\n\", \" \")  # Replace newline characters with space\n",
    "    text = re.sub(r'\\[.*?\\]', '', text)  # Remove text within brackets and the brackets\n",
    "    text = text.replace(\"\\'\", \"\")\n",
    "    text = text.strip()\n",
    "    text = text.lower()\n",
    "    text = ''.join(char for char in text if not char.isdigit())\n",
    "    for punctuation in string.punctuation:\n",
    "        text = text.replace(punctuation, '')\n",
    "    return text"
   ]
  },
  {
   "cell_type": "code",
   "execution_count": 110,
   "id": "467c4679-45a6-44bf-b225-1b559193dfa4",
   "metadata": {},
   "outputs": [
    {
     "data": {
      "text/plain": [
       "'[Produced by Irv Gotti]\\n\\n[Intro]\\nYeah, hah, yeah, Roc-A-Fella\\nWe invite you to somethin\\' epic, you know?\\nWell, we hustle out of a sense of hopelessness\\nSort of a desperation\\nThrough that desperation, we become addicted\\nSort of like the fiends we accustomed to servin\\'\\nBut we feel we have nothin\\' to lose\\nSo, we offer you, well, we offer our lives, right?\\nWhat do you bring to the table?\\n\\n[Verse 1]\\nWhile I\\'m watchin\\' every nigga watchin\\' me closely\\nMy shit is butter for the bread, they wanna toast me\\nI keep my head, both of them, where they supposed to be\\nHoes\\'ll get you sidetracked, then clapped from close feet\\nI don\\'t sleep, I\\'m tired, I feel wired like codeine, these days\\nA brother gotta admire me from four fiends away\\nMy pain, wish it was quick to see\\nFrom sellin\\' \\'caine \\'til brains was fried to a fricassee\\nCan\\'t lie, at the time it never bothered me\\nAt the bar, gettin\\' my thug on properly\\nMy squad and me lack of respect for authority\\nLaughin\\' hard, happy to be escapin\\' poverty, however brief\\nI know this game got valleys and peaks\\nExpectation for dips, for precipitation we stack chips, hardly\\nThe youth I used to be, soon to see a mill\\'in\\nNo more Big Willie, my game has grown\\nPrefer you call me William\\nIllin\\' for revenues, Rayful Edmond-like\\nChannel 7 News, round seven jewels, head dead in the mic\\nForgettin\\' all I ever knew, convenient amnesia\\n\"I suggest you call my lawyer, I know the procedure.\"\\nLock my body, can\\'t trap my mind\\nEasily explain why we adapt to crime\\nI\\'d rather die enormous than live dormant, that\\'s how we on it\\nLive at the main event, I bet a trip to Maui on it\\nPresidential suites my residential for the weekend\\nConfidentially speakin\\' in codes since I sense you peekin\\'\\nThe NSX rental, don\\'t be fooled, my game is mental\\nWe both out of town, dog, what you tryin\\' to get into?\\nViva Las Vegas, see ya later at the crap tables\\nMeet me by the one that starts a G up\\nThis way no Fraud Willies present gamblin\\' they re-up\\nAnd we can have a pleasant time, sippin\\' margaritas\\n[Chorus]\\nGe-ge-geyeahhh\\nCan I live?\\nCan I live?\\n\\n[Verse 2]\\nMy mind is infested with sick thoughts that circle\\nLike a Lexus, if driven wrong it\\'s sure to hurt you\\nDual level like duplexes, in unity\\nMy crew and me commit atrocities like we got immunity\\nYou guessed it, manifest it\\nIn tangible goods, platinum Rolex\\'d it\\nWe don\\'t lease, we buy the whole car, as you should\\nMy confederation, dead a nation\\nExplode on detonation, overload the mind of a said patient\\nWhen it boils to steam, it comes to it\\nWe all fiends, gotta do it: even righteous minds go through this\\nTrue this, the streets school us to spend our money foolish\\nBond with jewelers and watch for intruders\\nI stepped it up another level, meditated like a Buddhist\\nRecruited lieutenants with ludicrous dreams of gettin\\' cream\\n\"Let\\'s do this,\" it gets tedious\\nSo I keep one eye open like CBS — you see me stressed, right?\\n\\n[Chorus]\\nCan I live?\\nCan I live?\\nCan I live?\\nCan I live?'"
      ]
     },
     "execution_count": 110,
     "metadata": {},
     "output_type": "execute_result"
    }
   ],
   "source": [
    "text = lyrics[\"lyrics\"][1]\n",
    "text"
   ]
  },
  {
   "cell_type": "code",
   "execution_count": 111,
   "id": "2932cb93-a63a-4176-9bc2-98816b89da5a",
   "metadata": {},
   "outputs": [
    {
     "data": {
      "text/plain": [
       "'yeah hah yeah rocafella we invite you to somethin epic you know well we hustle out of a sense of hopelessness sort of a desperation through that desperation we become addicted sort of like the fiends we accustomed to servin but we feel we have nothin to lose so we offer you well we offer our lives right what do you bring to the table   while im watchin every nigga watchin me closely my shit is butter for the bread they wanna toast me i keep my head both of them where they supposed to be hoesll get you sidetracked then clapped from close feet i dont sleep im tired i feel wired like codeine these days a brother gotta admire me from four fiends away my pain wish it was quick to see from sellin caine til brains was fried to a fricassee cant lie at the time it never bothered me at the bar gettin my thug on properly my squad and me lack of respect for authority laughin hard happy to be escapin poverty however brief i know this game got valleys and peaks expectation for dips for precipitation we stack chips hardly the youth i used to be soon to see a millin no more big willie my game has grown prefer you call me william illin for revenues rayful edmondlike channel  news round seven jewels head dead in the mic forgettin all i ever knew convenient amnesia i suggest you call my lawyer i know the procedure lock my body cant trap my mind easily explain why we adapt to crime id rather die enormous than live dormant thats how we on it live at the main event i bet a trip to maui on it presidential suites my residential for the weekend confidentially speakin in codes since i sense you peekin the nsx rental dont be fooled my game is mental we both out of town dog what you tryin to get into viva las vegas see ya later at the crap tables meet me by the one that starts a g up this way no fraud willies present gamblin they reup and we can have a pleasant time sippin margaritas  gegegeyeahhh can i live can i live   my mind is infested with sick thoughts that circle like a lexus if driven wrong its sure to hurt you dual level like duplexes in unity my crew and me commit atrocities like we got immunity you guessed it manifest it in tangible goods platinum rolexd it we dont lease we buy the whole car as you should my confederation dead a nation explode on detonation overload the mind of a said patient when it boils to steam it comes to it we all fiends gotta do it even righteous minds go through this true this the streets school us to spend our money foolish bond with jewelers and watch for intruders i stepped it up another level meditated like a buddhist recruited lieutenants with ludicrous dreams of gettin cream lets do this it gets tedious so i keep one eye open like cbs — you see me stressed right   can i live can i live can i live can i live'"
      ]
     },
     "execution_count": 111,
     "metadata": {},
     "output_type": "execute_result"
    }
   ],
   "source": [
    "cleaned_text = clean_lyrics(text)\n",
    "cleaned_text"
   ]
  },
  {
   "cell_type": "code",
   "execution_count": 9,
   "id": "e6fed9b9",
   "metadata": {},
   "outputs": [],
   "source": [
    "def tokenize(text):\n",
    "    text_tk = word_tokenize(text)\n",
    "    return text_tk"
   ]
  },
  {
   "cell_type": "code",
   "execution_count": 10,
   "id": "b31e5173",
   "metadata": {},
   "outputs": [],
   "source": [
    "tokenized_text = tokenize(cleaned_text)"
   ]
  },
  {
   "cell_type": "code",
   "execution_count": 11,
   "id": "79029c2f",
   "metadata": {},
   "outputs": [],
   "source": [
    "def lemmatize(tokenized_text):\n",
    "    # lemmatizing the lyrics\n",
    "    verb_lemmatized = [WordNetLemmatizer().lemmatize(word, pos = \"v\") for word in tokenized_text]\n",
    "    noun_lemmatized = [WordNetLemmatizer().lemmatize(word, pos = \"n\") for word in verb_lemmatized]\n",
    "    #joining lemmatized lyrics to string\n",
    "    lemmatized_lyrics = \" \".join(noun_lemmatized)\n",
    "    return lemmatized_lyrics"
   ]
  },
  {
   "cell_type": "code",
   "execution_count": 19,
   "id": "0f9a6d39",
   "metadata": {},
   "outputs": [
    {
     "data": {
      "text/plain": [
       "'yeah hah yeah rocafella we invite you to somethin epic you know well we hustle out of a sense of hopelessness sort of a desperation through that desperation we become addict sort of like the fiend we accustom to servin but we feel we have nothin to lose so we offer you well we offer our live right what do you bring to the table while im watchin every nigga watchin me closely my shit be butter for the bread they wan na toast me i keep my head both of them where they suppose to be hoesll get you sidetrack then clap from close foot i dont sleep im tire i feel wire like codeine these day a brother get ta admire me from four fiend away my pain wish it be quick to see from sellin caine til brain be fry to a fricassee cant lie at the time it never bother me at the bar gettin my thug on properly my squad and me lack of respect for authority laughin hard happy to be escapin poverty however brief i know this game get valley and peak expectation for dip for precipitation we stack chip hardly the youth i use to be soon to see a millin no more big willie my game have grow prefer you call me william illin for revenue rayful edmondlike channel news round seven jewel head dead in the mic forgettin all i ever know convenient amnesia i suggest you call my lawyer i know the procedure lock my body cant trap my mind easily explain why we adapt to crime id rather die enormous than live dormant thats how we on it live at the main event i bet a trip to maui on it presidential suit my residential for the weekend confidentially speakin in cod since i sense you peekin the nsx rental dont be fool my game be mental we both out of town dog what you tryin to get into viva la vega see ya later at the crap table meet me by the one that start a g up this way no fraud willies present gamblin they reup and we can have a pleasant time sippin margarita gegegeyeahhh can i live can i live my mind be infest with sick thought that circle like a lexus if drive wrong it sure to hurt you dual level like duplex in unity my crew and me commit atrocity like we get immunity you guess it manifest it in tangible good platinum rolexd it we dont lease we buy the whole car a you should my confederation dead a nation explode on detonation overload the mind of a say patient when it boil to steam it come to it we all fiend get ta do it even righteous mind go through this true this the street school u to spend our money foolish bond with jeweler and watch for intruder i step it up another level meditate like a buddhist recruit lieutenant with ludicrous dream of gettin cream let do this it get tedious so i keep one eye open like cbs — you see me stress right can i live can i live can i live can i live'"
      ]
     },
     "execution_count": 19,
     "metadata": {},
     "output_type": "execute_result"
    }
   ],
   "source": [
    "text = lemmatize(tokenized_text)\n",
    "text"
   ]
  },
  {
   "cell_type": "markdown",
   "id": "ea3754f0",
   "metadata": {},
   "source": [
    "### Training"
   ]
  },
  {
   "cell_type": "code",
   "execution_count": 13,
   "id": "36682469",
   "metadata": {},
   "outputs": [
    {
     "name": "stdout",
     "output_type": "stream",
     "text": [
      "Requirement already satisfied: torch in /Users/luismockler/.pyenv/versions/3.10.6/envs/song-sentiment-recommendation/lib/python3.10/site-packages (2.3.1)\n",
      "Requirement already satisfied: torchvision in /Users/luismockler/.pyenv/versions/3.10.6/envs/song-sentiment-recommendation/lib/python3.10/site-packages (0.18.1)\n",
      "Requirement already satisfied: filelock in /Users/luismockler/.pyenv/versions/3.10.6/envs/song-sentiment-recommendation/lib/python3.10/site-packages (from torch) (3.15.4)\n",
      "Requirement already satisfied: typing-extensions>=4.8.0 in /Users/luismockler/.pyenv/versions/3.10.6/envs/song-sentiment-recommendation/lib/python3.10/site-packages (from torch) (4.12.2)\n",
      "Requirement already satisfied: sympy in /Users/luismockler/.pyenv/versions/3.10.6/envs/song-sentiment-recommendation/lib/python3.10/site-packages (from torch) (1.13.0)\n",
      "Requirement already satisfied: networkx in /Users/luismockler/.pyenv/versions/3.10.6/envs/song-sentiment-recommendation/lib/python3.10/site-packages (from torch) (3.3)\n",
      "Requirement already satisfied: jinja2 in /Users/luismockler/.pyenv/versions/3.10.6/envs/song-sentiment-recommendation/lib/python3.10/site-packages (from torch) (3.1.4)\n",
      "Requirement already satisfied: fsspec in /Users/luismockler/.pyenv/versions/3.10.6/envs/song-sentiment-recommendation/lib/python3.10/site-packages (from torch) (2024.6.1)\n",
      "Requirement already satisfied: numpy in /Users/luismockler/.pyenv/versions/3.10.6/envs/song-sentiment-recommendation/lib/python3.10/site-packages (from torchvision) (1.26.4)\n",
      "Requirement already satisfied: pillow!=8.3.*,>=5.3.0 in /Users/luismockler/.pyenv/versions/3.10.6/envs/song-sentiment-recommendation/lib/python3.10/site-packages (from torchvision) (10.4.0)\n",
      "Requirement already satisfied: MarkupSafe>=2.0 in /Users/luismockler/.pyenv/versions/3.10.6/envs/song-sentiment-recommendation/lib/python3.10/site-packages (from jinja2->torch) (2.1.5)\n",
      "Requirement already satisfied: mpmath<1.4,>=1.1.0 in /Users/luismockler/.pyenv/versions/3.10.6/envs/song-sentiment-recommendation/lib/python3.10/site-packages (from sympy->torch) (1.3.0)\n",
      "Note: you may need to restart the kernel to use updated packages.\n"
     ]
    }
   ],
   "source": [
    "pip install torch torchvision"
   ]
  },
  {
   "cell_type": "code",
   "execution_count": 14,
   "id": "7fd48d70",
   "metadata": {},
   "outputs": [
    {
     "name": "stdout",
     "output_type": "stream",
     "text": [
      "Requirement already satisfied: transformers in /Users/luismockler/.pyenv/versions/3.10.6/envs/song-sentiment-recommendation/lib/python3.10/site-packages (4.42.4)\n",
      "Requirement already satisfied: filelock in /Users/luismockler/.pyenv/versions/3.10.6/envs/song-sentiment-recommendation/lib/python3.10/site-packages (from transformers) (3.15.4)\n",
      "Requirement already satisfied: huggingface-hub<1.0,>=0.23.2 in /Users/luismockler/.pyenv/versions/3.10.6/envs/song-sentiment-recommendation/lib/python3.10/site-packages (from transformers) (0.23.4)\n",
      "Requirement already satisfied: numpy<2.0,>=1.17 in /Users/luismockler/.pyenv/versions/3.10.6/envs/song-sentiment-recommendation/lib/python3.10/site-packages (from transformers) (1.26.4)\n",
      "Requirement already satisfied: packaging>=20.0 in /Users/luismockler/.pyenv/versions/3.10.6/envs/song-sentiment-recommendation/lib/python3.10/site-packages (from transformers) (24.1)\n",
      "Requirement already satisfied: pyyaml>=5.1 in /Users/luismockler/.pyenv/versions/3.10.6/envs/song-sentiment-recommendation/lib/python3.10/site-packages (from transformers) (6.0.1)\n",
      "Requirement already satisfied: regex!=2019.12.17 in /Users/luismockler/.pyenv/versions/3.10.6/envs/song-sentiment-recommendation/lib/python3.10/site-packages (from transformers) (2024.5.15)\n",
      "Requirement already satisfied: requests in /Users/luismockler/.pyenv/versions/3.10.6/envs/song-sentiment-recommendation/lib/python3.10/site-packages (from transformers) (2.32.3)\n",
      "Requirement already satisfied: safetensors>=0.4.1 in /Users/luismockler/.pyenv/versions/3.10.6/envs/song-sentiment-recommendation/lib/python3.10/site-packages (from transformers) (0.4.3)\n",
      "Requirement already satisfied: tokenizers<0.20,>=0.19 in /Users/luismockler/.pyenv/versions/3.10.6/envs/song-sentiment-recommendation/lib/python3.10/site-packages (from transformers) (0.19.1)\n",
      "Requirement already satisfied: tqdm>=4.27 in /Users/luismockler/.pyenv/versions/3.10.6/envs/song-sentiment-recommendation/lib/python3.10/site-packages (from transformers) (4.66.4)\n",
      "Requirement already satisfied: fsspec>=2023.5.0 in /Users/luismockler/.pyenv/versions/3.10.6/envs/song-sentiment-recommendation/lib/python3.10/site-packages (from huggingface-hub<1.0,>=0.23.2->transformers) (2024.6.1)\n",
      "Requirement already satisfied: typing-extensions>=3.7.4.3 in /Users/luismockler/.pyenv/versions/3.10.6/envs/song-sentiment-recommendation/lib/python3.10/site-packages (from huggingface-hub<1.0,>=0.23.2->transformers) (4.12.2)\n",
      "Requirement already satisfied: charset-normalizer<4,>=2 in /Users/luismockler/.pyenv/versions/3.10.6/envs/song-sentiment-recommendation/lib/python3.10/site-packages (from requests->transformers) (3.3.2)\n",
      "Requirement already satisfied: idna<4,>=2.5 in /Users/luismockler/.pyenv/versions/3.10.6/envs/song-sentiment-recommendation/lib/python3.10/site-packages (from requests->transformers) (3.7)\n",
      "Requirement already satisfied: urllib3<3,>=1.21.1 in /Users/luismockler/.pyenv/versions/3.10.6/envs/song-sentiment-recommendation/lib/python3.10/site-packages (from requests->transformers) (2.2.2)\n",
      "Requirement already satisfied: certifi>=2017.4.17 in /Users/luismockler/.pyenv/versions/3.10.6/envs/song-sentiment-recommendation/lib/python3.10/site-packages (from requests->transformers) (2024.7.4)\n",
      "Note: you may need to restart the kernel to use updated packages.\n"
     ]
    }
   ],
   "source": [
    "pip install transformers"
   ]
  },
  {
   "cell_type": "code",
   "execution_count": 15,
   "id": "dad994c7",
   "metadata": {},
   "outputs": [],
   "source": [
    "from transformers import pipeline, AutoTokenizer, AutoModelForSequenceClassification"
   ]
  },
  {
   "cell_type": "code",
   "execution_count": 16,
   "id": "314737d5",
   "metadata": {},
   "outputs": [
    {
     "data": {
      "application/vnd.jupyter.widget-view+json": {
       "model_id": "851b141893b14cfdb2fea4281ab04435",
       "version_major": 2,
       "version_minor": 0
      },
      "text/plain": [
       "pytorch_model.bin:   0%|          | 0.00/501M [00:00<?, ?B/s]"
      ]
     },
     "metadata": {},
     "output_type": "display_data"
    },
    {
     "name": "stderr",
     "output_type": "stream",
     "text": [
      "Some weights of the model checkpoint at cardiffnlp/twitter-roberta-base-sentiment-latest were not used when initializing RobertaForSequenceClassification: ['roberta.pooler.dense.bias', 'roberta.pooler.dense.weight']\n",
      "- This IS expected if you are initializing RobertaForSequenceClassification from the checkpoint of a model trained on another task or with another architecture (e.g. initializing a BertForSequenceClassification model from a BertForPreTraining model).\n",
      "- This IS NOT expected if you are initializing RobertaForSequenceClassification from the checkpoint of a model that you expect to be exactly identical (initializing a BertForSequenceClassification model from a BertForSequenceClassification model).\n",
      "Hardware accelerator e.g. GPU is available in the environment, but no `device` argument is passed to the `Pipeline` object. Model will be on CPU.\n"
     ]
    }
   ],
   "source": [
    "pipe = pipeline(\"text-classification\", model=\"cardiffnlp/twitter-roberta-base-sentiment-latest\")"
   ]
  },
  {
   "cell_type": "code",
   "execution_count": 29,
   "id": "12f7996b",
   "metadata": {},
   "outputs": [
    {
     "data": {
      "text/plain": [
       "[{'label': 'neutral', 'score': 0.5098454356193542}]"
      ]
     },
     "execution_count": 29,
     "metadata": {},
     "output_type": "execute_result"
    }
   ],
   "source": [
    "result = pipe(text[:514])\n",
    "result"
   ]
  },
  {
   "cell_type": "code",
   "execution_count": null,
   "id": "8e405dba",
   "metadata": {},
   "outputs": [],
   "source": []
  },
  {
   "cell_type": "markdown",
   "id": "4073d6af",
   "metadata": {},
   "source": [
    "### Other Model"
   ]
  },
  {
   "cell_type": "code",
   "execution_count": 25,
   "id": "54d6e0e5",
   "metadata": {},
   "outputs": [
    {
     "data": {
      "application/vnd.jupyter.widget-view+json": {
       "model_id": "ec8ddeea62354874909456339551cabf",
       "version_major": 2,
       "version_minor": 0
      },
      "text/plain": [
       "config.json:   0%|          | 0.00/923 [00:00<?, ?B/s]"
      ]
     },
     "metadata": {},
     "output_type": "display_data"
    },
    {
     "data": {
      "application/vnd.jupyter.widget-view+json": {
       "model_id": "6986340a66d14ea5b0fa9b0927e535f3",
       "version_major": 2,
       "version_minor": 0
      },
      "text/plain": [
       "pytorch_model.bin:   0%|          | 0.00/438M [00:00<?, ?B/s]"
      ]
     },
     "metadata": {},
     "output_type": "display_data"
    },
    {
     "data": {
      "application/vnd.jupyter.widget-view+json": {
       "model_id": "5f9d9210da044bfb88843bed5a00b882",
       "version_major": 2,
       "version_minor": 0
      },
      "text/plain": [
       "tokenizer_config.json:   0%|          | 0.00/348 [00:00<?, ?B/s]"
      ]
     },
     "metadata": {},
     "output_type": "display_data"
    },
    {
     "data": {
      "application/vnd.jupyter.widget-view+json": {
       "model_id": "f603b22d319b4e1d95aef4f916d03c63",
       "version_major": 2,
       "version_minor": 0
      },
      "text/plain": [
       "vocab.txt:   0%|          | 0.00/232k [00:00<?, ?B/s]"
      ]
     },
     "metadata": {},
     "output_type": "display_data"
    },
    {
     "data": {
      "application/vnd.jupyter.widget-view+json": {
       "model_id": "7a36a1ba6e1f403d86d273ee91ef3f97",
       "version_major": 2,
       "version_minor": 0
      },
      "text/plain": [
       "tokenizer.json:   0%|          | 0.00/712k [00:00<?, ?B/s]"
      ]
     },
     "metadata": {},
     "output_type": "display_data"
    },
    {
     "data": {
      "application/vnd.jupyter.widget-view+json": {
       "model_id": "cd76b87383a444ccb313b74451f098f0",
       "version_major": 2,
       "version_minor": 0
      },
      "text/plain": [
       "special_tokens_map.json:   0%|          | 0.00/125 [00:00<?, ?B/s]"
      ]
     },
     "metadata": {},
     "output_type": "display_data"
    },
    {
     "name": "stderr",
     "output_type": "stream",
     "text": [
      "Hardware accelerator e.g. GPU is available in the environment, but no `device` argument is passed to the `Pipeline` object. Model will be on CPU.\n"
     ]
    }
   ],
   "source": [
    "pipe1 = pipeline(\"text-classification\", model=\"nickwong64/bert-base-uncased-poems-sentiment\")"
   ]
  },
  {
   "cell_type": "code",
   "execution_count": 28,
   "id": "162a6d4f",
   "metadata": {},
   "outputs": [
    {
     "data": {
      "text/plain": [
       "[{'label': 'negative', 'score': 0.9511377811431885}]"
      ]
     },
     "execution_count": 28,
     "metadata": {},
     "output_type": "execute_result"
    }
   ],
   "source": [
    "result1 = pipe1(text[:512])\n",
    "result1"
   ]
  },
  {
   "cell_type": "markdown",
   "id": "817334ad",
   "metadata": {},
   "source": [
    "### Comparison"
   ]
  },
  {
   "cell_type": "code",
   "execution_count": 30,
   "id": "a490c13a",
   "metadata": {},
   "outputs": [
    {
     "data": {
      "text/html": [
       "<div>\n",
       "<style scoped>\n",
       "    .dataframe tbody tr th:only-of-type {\n",
       "        vertical-align: middle;\n",
       "    }\n",
       "\n",
       "    .dataframe tbody tr th {\n",
       "        vertical-align: top;\n",
       "    }\n",
       "\n",
       "    .dataframe thead th {\n",
       "        text-align: right;\n",
       "    }\n",
       "</style>\n",
       "<table border=\"1\" class=\"dataframe\">\n",
       "  <thead>\n",
       "    <tr style=\"text-align: right;\">\n",
       "      <th></th>\n",
       "      <th>title</th>\n",
       "      <th>tag</th>\n",
       "      <th>artist</th>\n",
       "      <th>year</th>\n",
       "      <th>views</th>\n",
       "      <th>features</th>\n",
       "      <th>lyrics</th>\n",
       "      <th>id</th>\n",
       "      <th>language_cld3</th>\n",
       "      <th>language_ft</th>\n",
       "      <th>language</th>\n",
       "    </tr>\n",
       "  </thead>\n",
       "  <tbody>\n",
       "    <tr>\n",
       "      <th>0</th>\n",
       "      <td>Killa Cam</td>\n",
       "      <td>rap</td>\n",
       "      <td>Cam'ron</td>\n",
       "      <td>2004</td>\n",
       "      <td>173166</td>\n",
       "      <td>{\"Cam\\\\'ron\",\"Opera Steve\"}</td>\n",
       "      <td>[Chorus: Opera Steve &amp; Cam'ron]\\nKilla Cam, Ki...</td>\n",
       "      <td>1</td>\n",
       "      <td>en</td>\n",
       "      <td>en</td>\n",
       "      <td>en</td>\n",
       "    </tr>\n",
       "    <tr>\n",
       "      <th>1</th>\n",
       "      <td>Can I Live</td>\n",
       "      <td>rap</td>\n",
       "      <td>JAY-Z</td>\n",
       "      <td>1996</td>\n",
       "      <td>468624</td>\n",
       "      <td>{}</td>\n",
       "      <td>[Produced by Irv Gotti]\\n\\n[Intro]\\nYeah, hah,...</td>\n",
       "      <td>3</td>\n",
       "      <td>en</td>\n",
       "      <td>en</td>\n",
       "      <td>en</td>\n",
       "    </tr>\n",
       "    <tr>\n",
       "      <th>2</th>\n",
       "      <td>Forgive Me Father</td>\n",
       "      <td>rap</td>\n",
       "      <td>Fabolous</td>\n",
       "      <td>2003</td>\n",
       "      <td>4743</td>\n",
       "      <td>{}</td>\n",
       "      <td>Maybe cause I'm eatin\\nAnd these bastards fien...</td>\n",
       "      <td>4</td>\n",
       "      <td>en</td>\n",
       "      <td>en</td>\n",
       "      <td>en</td>\n",
       "    </tr>\n",
       "    <tr>\n",
       "      <th>3</th>\n",
       "      <td>Down and Out</td>\n",
       "      <td>rap</td>\n",
       "      <td>Cam'ron</td>\n",
       "      <td>2004</td>\n",
       "      <td>144404</td>\n",
       "      <td>{\"Cam\\\\'ron\",\"Kanye West\",\"Syleena Johnson\"}</td>\n",
       "      <td>[Produced by Kanye West and Brian Miller]\\n\\n[...</td>\n",
       "      <td>5</td>\n",
       "      <td>en</td>\n",
       "      <td>en</td>\n",
       "      <td>en</td>\n",
       "    </tr>\n",
       "    <tr>\n",
       "      <th>4</th>\n",
       "      <td>Fly In</td>\n",
       "      <td>rap</td>\n",
       "      <td>Lil Wayne</td>\n",
       "      <td>2005</td>\n",
       "      <td>78271</td>\n",
       "      <td>{}</td>\n",
       "      <td>[Intro]\\nSo they ask me\\n\"Young boy\\nWhat you ...</td>\n",
       "      <td>6</td>\n",
       "      <td>en</td>\n",
       "      <td>en</td>\n",
       "      <td>en</td>\n",
       "    </tr>\n",
       "  </tbody>\n",
       "</table>\n",
       "</div>"
      ],
      "text/plain": [
       "               title  tag     artist  year   views  \\\n",
       "0          Killa Cam  rap    Cam'ron  2004  173166   \n",
       "1         Can I Live  rap      JAY-Z  1996  468624   \n",
       "2  Forgive Me Father  rap   Fabolous  2003    4743   \n",
       "3       Down and Out  rap    Cam'ron  2004  144404   \n",
       "4             Fly In  rap  Lil Wayne  2005   78271   \n",
       "\n",
       "                                       features  \\\n",
       "0                   {\"Cam\\\\'ron\",\"Opera Steve\"}   \n",
       "1                                            {}   \n",
       "2                                            {}   \n",
       "3  {\"Cam\\\\'ron\",\"Kanye West\",\"Syleena Johnson\"}   \n",
       "4                                            {}   \n",
       "\n",
       "                                              lyrics  id language_cld3  \\\n",
       "0  [Chorus: Opera Steve & Cam'ron]\\nKilla Cam, Ki...   1            en   \n",
       "1  [Produced by Irv Gotti]\\n\\n[Intro]\\nYeah, hah,...   3            en   \n",
       "2  Maybe cause I'm eatin\\nAnd these bastards fien...   4            en   \n",
       "3  [Produced by Kanye West and Brian Miller]\\n\\n[...   5            en   \n",
       "4  [Intro]\\nSo they ask me\\n\"Young boy\\nWhat you ...   6            en   \n",
       "\n",
       "  language_ft language  \n",
       "0          en       en  \n",
       "1          en       en  \n",
       "2          en       en  \n",
       "3          en       en  \n",
       "4          en       en  "
      ]
     },
     "execution_count": 30,
     "metadata": {},
     "output_type": "execute_result"
    }
   ],
   "source": [
    "lyrics.head()"
   ]
  },
  {
   "cell_type": "code",
   "execution_count": 31,
   "id": "2351ae12",
   "metadata": {},
   "outputs": [],
   "source": [
    "def preprocessing(text):\n",
    "    text = clean_lyrics(text)\n",
    "    text = tokenize(text)\n",
    "    text = lemmatize(text)\n",
    "    return text"
   ]
  },
  {
   "cell_type": "code",
   "execution_count": 36,
   "id": "b901d3e6",
   "metadata": {},
   "outputs": [],
   "source": [
    "lyrics[\"cleaned_lyrics\"] = lyrics[\"lyrics\"].apply(preprocessing)"
   ]
  },
  {
   "cell_type": "code",
   "execution_count": 51,
   "id": "0b404b04",
   "metadata": {},
   "outputs": [
    {
     "data": {
      "text/html": [
       "<div>\n",
       "<style scoped>\n",
       "    .dataframe tbody tr th:only-of-type {\n",
       "        vertical-align: middle;\n",
       "    }\n",
       "\n",
       "    .dataframe tbody tr th {\n",
       "        vertical-align: top;\n",
       "    }\n",
       "\n",
       "    .dataframe thead th {\n",
       "        text-align: right;\n",
       "    }\n",
       "</style>\n",
       "<table border=\"1\" class=\"dataframe\">\n",
       "  <thead>\n",
       "    <tr style=\"text-align: right;\">\n",
       "      <th></th>\n",
       "      <th>title</th>\n",
       "      <th>tag</th>\n",
       "      <th>artist</th>\n",
       "      <th>year</th>\n",
       "      <th>views</th>\n",
       "      <th>features</th>\n",
       "      <th>lyrics</th>\n",
       "      <th>id</th>\n",
       "      <th>language_cld3</th>\n",
       "      <th>language_ft</th>\n",
       "      <th>language</th>\n",
       "      <th>cleaned_lyrics</th>\n",
       "    </tr>\n",
       "  </thead>\n",
       "  <tbody>\n",
       "    <tr>\n",
       "      <th>0</th>\n",
       "      <td>Killa Cam</td>\n",
       "      <td>rap</td>\n",
       "      <td>Cam'ron</td>\n",
       "      <td>2004</td>\n",
       "      <td>173166</td>\n",
       "      <td>{\"Cam\\\\'ron\",\"Opera Steve\"}</td>\n",
       "      <td>[Chorus: Opera Steve &amp; Cam'ron]\\nKilla Cam, Ki...</td>\n",
       "      <td>1</td>\n",
       "      <td>en</td>\n",
       "      <td>en</td>\n",
       "      <td>en</td>\n",
       "      <td>killa cam killa cam cam killa cam killa cam ki...</td>\n",
       "    </tr>\n",
       "    <tr>\n",
       "      <th>1</th>\n",
       "      <td>Can I Live</td>\n",
       "      <td>rap</td>\n",
       "      <td>JAY-Z</td>\n",
       "      <td>1996</td>\n",
       "      <td>468624</td>\n",
       "      <td>{}</td>\n",
       "      <td>[Produced by Irv Gotti]\\n\\n[Intro]\\nYeah, hah,...</td>\n",
       "      <td>3</td>\n",
       "      <td>en</td>\n",
       "      <td>en</td>\n",
       "      <td>en</td>\n",
       "      <td>yeah hah yeah rocafella we invite you to somet...</td>\n",
       "    </tr>\n",
       "    <tr>\n",
       "      <th>2</th>\n",
       "      <td>Forgive Me Father</td>\n",
       "      <td>rap</td>\n",
       "      <td>Fabolous</td>\n",
       "      <td>2003</td>\n",
       "      <td>4743</td>\n",
       "      <td>{}</td>\n",
       "      <td>Maybe cause I'm eatin\\nAnd these bastards fien...</td>\n",
       "      <td>4</td>\n",
       "      <td>en</td>\n",
       "      <td>en</td>\n",
       "      <td>en</td>\n",
       "      <td>maybe cause im eatin and these bastard fiend f...</td>\n",
       "    </tr>\n",
       "    <tr>\n",
       "      <th>3</th>\n",
       "      <td>Down and Out</td>\n",
       "      <td>rap</td>\n",
       "      <td>Cam'ron</td>\n",
       "      <td>2004</td>\n",
       "      <td>144404</td>\n",
       "      <td>{\"Cam\\\\'ron\",\"Kanye West\",\"Syleena Johnson\"}</td>\n",
       "      <td>[Produced by Kanye West and Brian Miller]\\n\\n[...</td>\n",
       "      <td>5</td>\n",
       "      <td>en</td>\n",
       "      <td>en</td>\n",
       "      <td>en</td>\n",
       "      <td>ugh killa baby kanye this that s heron flow hu...</td>\n",
       "    </tr>\n",
       "    <tr>\n",
       "      <th>4</th>\n",
       "      <td>Fly In</td>\n",
       "      <td>rap</td>\n",
       "      <td>Lil Wayne</td>\n",
       "      <td>2005</td>\n",
       "      <td>78271</td>\n",
       "      <td>{}</td>\n",
       "      <td>[Intro]\\nSo they ask me\\n\"Young boy\\nWhat you ...</td>\n",
       "      <td>6</td>\n",
       "      <td>en</td>\n",
       "      <td>en</td>\n",
       "      <td>en</td>\n",
       "      <td>so they ask me young boy what you gon do the s...</td>\n",
       "    </tr>\n",
       "  </tbody>\n",
       "</table>\n",
       "</div>"
      ],
      "text/plain": [
       "               title  tag     artist  year   views  \\\n",
       "0          Killa Cam  rap    Cam'ron  2004  173166   \n",
       "1         Can I Live  rap      JAY-Z  1996  468624   \n",
       "2  Forgive Me Father  rap   Fabolous  2003    4743   \n",
       "3       Down and Out  rap    Cam'ron  2004  144404   \n",
       "4             Fly In  rap  Lil Wayne  2005   78271   \n",
       "\n",
       "                                       features  \\\n",
       "0                   {\"Cam\\\\'ron\",\"Opera Steve\"}   \n",
       "1                                            {}   \n",
       "2                                            {}   \n",
       "3  {\"Cam\\\\'ron\",\"Kanye West\",\"Syleena Johnson\"}   \n",
       "4                                            {}   \n",
       "\n",
       "                                              lyrics  id language_cld3  \\\n",
       "0  [Chorus: Opera Steve & Cam'ron]\\nKilla Cam, Ki...   1            en   \n",
       "1  [Produced by Irv Gotti]\\n\\n[Intro]\\nYeah, hah,...   3            en   \n",
       "2  Maybe cause I'm eatin\\nAnd these bastards fien...   4            en   \n",
       "3  [Produced by Kanye West and Brian Miller]\\n\\n[...   5            en   \n",
       "4  [Intro]\\nSo they ask me\\n\"Young boy\\nWhat you ...   6            en   \n",
       "\n",
       "  language_ft language                                     cleaned_lyrics  \n",
       "0          en       en  killa cam killa cam cam killa cam killa cam ki...  \n",
       "1          en       en  yeah hah yeah rocafella we invite you to somet...  \n",
       "2          en       en  maybe cause im eatin and these bastard fiend f...  \n",
       "3          en       en  ugh killa baby kanye this that s heron flow hu...  \n",
       "4          en       en  so they ask me young boy what you gon do the s...  "
      ]
     },
     "execution_count": 51,
     "metadata": {},
     "output_type": "execute_result"
    }
   ],
   "source": [
    "lyrics.head()"
   ]
  },
  {
   "cell_type": "code",
   "execution_count": 46,
   "id": "339723dc",
   "metadata": {},
   "outputs": [],
   "source": [
    "# Function to get sentiment score\n",
    "def get_sentiment_score(text):\n",
    "    result = pipe(text[:514])[0]\n",
    "    return result['score']"
   ]
  },
  {
   "cell_type": "code",
   "execution_count": 49,
   "id": "8974c087",
   "metadata": {},
   "outputs": [],
   "source": [
    "# function to get sentiment label\n",
    "def get_sentiment_label(text):\n",
    "    result = pipe(text[:514])[0]\n",
    "    return result['label']"
   ]
  },
  {
   "cell_type": "code",
   "execution_count": 52,
   "id": "3546138f",
   "metadata": {},
   "outputs": [],
   "source": [
    "lyrics[\"sentiment_label\"] = lyrics[\"cleaned_lyrics\"].apply(get_sentiment_label)"
   ]
  },
  {
   "cell_type": "code",
   "execution_count": 54,
   "id": "e5cb2e38",
   "metadata": {},
   "outputs": [],
   "source": [
    "lyrics[\"sentiment_score\"] = lyrics[\"cleaned_lyrics\"].apply(get_sentiment_score)"
   ]
  },
  {
   "cell_type": "code",
   "execution_count": 55,
   "id": "62e67db9",
   "metadata": {},
   "outputs": [
    {
     "data": {
      "text/html": [
       "<div>\n",
       "<style scoped>\n",
       "    .dataframe tbody tr th:only-of-type {\n",
       "        vertical-align: middle;\n",
       "    }\n",
       "\n",
       "    .dataframe tbody tr th {\n",
       "        vertical-align: top;\n",
       "    }\n",
       "\n",
       "    .dataframe thead th {\n",
       "        text-align: right;\n",
       "    }\n",
       "</style>\n",
       "<table border=\"1\" class=\"dataframe\">\n",
       "  <thead>\n",
       "    <tr style=\"text-align: right;\">\n",
       "      <th></th>\n",
       "      <th>title</th>\n",
       "      <th>tag</th>\n",
       "      <th>artist</th>\n",
       "      <th>year</th>\n",
       "      <th>views</th>\n",
       "      <th>features</th>\n",
       "      <th>lyrics</th>\n",
       "      <th>id</th>\n",
       "      <th>language_cld3</th>\n",
       "      <th>language_ft</th>\n",
       "      <th>language</th>\n",
       "      <th>cleaned_lyrics</th>\n",
       "      <th>sentiment_label</th>\n",
       "      <th>sentiment_score</th>\n",
       "    </tr>\n",
       "  </thead>\n",
       "  <tbody>\n",
       "    <tr>\n",
       "      <th>0</th>\n",
       "      <td>Killa Cam</td>\n",
       "      <td>rap</td>\n",
       "      <td>Cam'ron</td>\n",
       "      <td>2004</td>\n",
       "      <td>173166</td>\n",
       "      <td>{\"Cam\\\\'ron\",\"Opera Steve\"}</td>\n",
       "      <td>[Chorus: Opera Steve &amp; Cam'ron]\\nKilla Cam, Ki...</td>\n",
       "      <td>1</td>\n",
       "      <td>en</td>\n",
       "      <td>en</td>\n",
       "      <td>en</td>\n",
       "      <td>killa cam killa cam cam killa cam killa cam ki...</td>\n",
       "      <td>neutral</td>\n",
       "      <td>0.750829</td>\n",
       "    </tr>\n",
       "    <tr>\n",
       "      <th>1</th>\n",
       "      <td>Can I Live</td>\n",
       "      <td>rap</td>\n",
       "      <td>JAY-Z</td>\n",
       "      <td>1996</td>\n",
       "      <td>468624</td>\n",
       "      <td>{}</td>\n",
       "      <td>[Produced by Irv Gotti]\\n\\n[Intro]\\nYeah, hah,...</td>\n",
       "      <td>3</td>\n",
       "      <td>en</td>\n",
       "      <td>en</td>\n",
       "      <td>en</td>\n",
       "      <td>yeah hah yeah rocafella we invite you to somet...</td>\n",
       "      <td>neutral</td>\n",
       "      <td>0.509845</td>\n",
       "    </tr>\n",
       "    <tr>\n",
       "      <th>2</th>\n",
       "      <td>Forgive Me Father</td>\n",
       "      <td>rap</td>\n",
       "      <td>Fabolous</td>\n",
       "      <td>2003</td>\n",
       "      <td>4743</td>\n",
       "      <td>{}</td>\n",
       "      <td>Maybe cause I'm eatin\\nAnd these bastards fien...</td>\n",
       "      <td>4</td>\n",
       "      <td>en</td>\n",
       "      <td>en</td>\n",
       "      <td>en</td>\n",
       "      <td>maybe cause im eatin and these bastard fiend f...</td>\n",
       "      <td>negative</td>\n",
       "      <td>0.789887</td>\n",
       "    </tr>\n",
       "    <tr>\n",
       "      <th>3</th>\n",
       "      <td>Down and Out</td>\n",
       "      <td>rap</td>\n",
       "      <td>Cam'ron</td>\n",
       "      <td>2004</td>\n",
       "      <td>144404</td>\n",
       "      <td>{\"Cam\\\\'ron\",\"Kanye West\",\"Syleena Johnson\"}</td>\n",
       "      <td>[Produced by Kanye West and Brian Miller]\\n\\n[...</td>\n",
       "      <td>5</td>\n",
       "      <td>en</td>\n",
       "      <td>en</td>\n",
       "      <td>en</td>\n",
       "      <td>ugh killa baby kanye this that s heron flow hu...</td>\n",
       "      <td>negative</td>\n",
       "      <td>0.815748</td>\n",
       "    </tr>\n",
       "    <tr>\n",
       "      <th>4</th>\n",
       "      <td>Fly In</td>\n",
       "      <td>rap</td>\n",
       "      <td>Lil Wayne</td>\n",
       "      <td>2005</td>\n",
       "      <td>78271</td>\n",
       "      <td>{}</td>\n",
       "      <td>[Intro]\\nSo they ask me\\n\"Young boy\\nWhat you ...</td>\n",
       "      <td>6</td>\n",
       "      <td>en</td>\n",
       "      <td>en</td>\n",
       "      <td>en</td>\n",
       "      <td>so they ask me young boy what you gon do the s...</td>\n",
       "      <td>neutral</td>\n",
       "      <td>0.523135</td>\n",
       "    </tr>\n",
       "  </tbody>\n",
       "</table>\n",
       "</div>"
      ],
      "text/plain": [
       "               title  tag     artist  year   views  \\\n",
       "0          Killa Cam  rap    Cam'ron  2004  173166   \n",
       "1         Can I Live  rap      JAY-Z  1996  468624   \n",
       "2  Forgive Me Father  rap   Fabolous  2003    4743   \n",
       "3       Down and Out  rap    Cam'ron  2004  144404   \n",
       "4             Fly In  rap  Lil Wayne  2005   78271   \n",
       "\n",
       "                                       features  \\\n",
       "0                   {\"Cam\\\\'ron\",\"Opera Steve\"}   \n",
       "1                                            {}   \n",
       "2                                            {}   \n",
       "3  {\"Cam\\\\'ron\",\"Kanye West\",\"Syleena Johnson\"}   \n",
       "4                                            {}   \n",
       "\n",
       "                                              lyrics  id language_cld3  \\\n",
       "0  [Chorus: Opera Steve & Cam'ron]\\nKilla Cam, Ki...   1            en   \n",
       "1  [Produced by Irv Gotti]\\n\\n[Intro]\\nYeah, hah,...   3            en   \n",
       "2  Maybe cause I'm eatin\\nAnd these bastards fien...   4            en   \n",
       "3  [Produced by Kanye West and Brian Miller]\\n\\n[...   5            en   \n",
       "4  [Intro]\\nSo they ask me\\n\"Young boy\\nWhat you ...   6            en   \n",
       "\n",
       "  language_ft language                                     cleaned_lyrics  \\\n",
       "0          en       en  killa cam killa cam cam killa cam killa cam ki...   \n",
       "1          en       en  yeah hah yeah rocafella we invite you to somet...   \n",
       "2          en       en  maybe cause im eatin and these bastard fiend f...   \n",
       "3          en       en  ugh killa baby kanye this that s heron flow hu...   \n",
       "4          en       en  so they ask me young boy what you gon do the s...   \n",
       "\n",
       "  sentiment_label  sentiment_score  \n",
       "0         neutral         0.750829  \n",
       "1         neutral         0.509845  \n",
       "2        negative         0.789887  \n",
       "3        negative         0.815748  \n",
       "4         neutral         0.523135  "
      ]
     },
     "execution_count": 55,
     "metadata": {},
     "output_type": "execute_result"
    }
   ],
   "source": [
    "lyrics.head()"
   ]
  },
  {
   "cell_type": "code",
   "execution_count": 56,
   "id": "b7c95b31",
   "metadata": {},
   "outputs": [],
   "source": [
    "def get_sentiment_score1(text):\n",
    "    result = pipe1(text[:512])[0]\n",
    "    return result['score']"
   ]
  },
  {
   "cell_type": "code",
   "execution_count": 57,
   "id": "19f6b3d2",
   "metadata": {},
   "outputs": [],
   "source": [
    "def get_sentiment_label1(text):\n",
    "    result = pipe1(text[:512])[0]\n",
    "    return result['label']"
   ]
  },
  {
   "cell_type": "code",
   "execution_count": 58,
   "id": "2bbc9423",
   "metadata": {},
   "outputs": [],
   "source": [
    "lyrics[\"sentiment_label_om\"] = lyrics[\"cleaned_lyrics\"].apply(get_sentiment_label1)"
   ]
  },
  {
   "cell_type": "code",
   "execution_count": 59,
   "id": "9b668d06",
   "metadata": {},
   "outputs": [],
   "source": [
    "lyrics[\"sentiment_score_om\"] = lyrics[\"cleaned_lyrics\"].apply(get_sentiment_score1)"
   ]
  },
  {
   "cell_type": "code",
   "execution_count": 71,
   "id": "f1fcb76a",
   "metadata": {},
   "outputs": [
    {
     "ename": "AttributeError",
     "evalue": "'Series' object has no attribute 'summary'",
     "output_type": "error",
     "traceback": [
      "\u001b[0;31m---------------------------------------------------------------------------\u001b[0m",
      "\u001b[0;31mAttributeError\u001b[0m                            Traceback (most recent call last)",
      "\u001b[0;32m/var/folders/_j/9687nq8956vfj5_mlmvkl4l40000gn/T/ipykernel_25877/181362709.py\u001b[0m in \u001b[0;36m?\u001b[0;34m()\u001b[0m\n\u001b[0;32m----> 1\u001b[0;31m \u001b[0mlyrics\u001b[0m\u001b[0;34m[\u001b[0m\u001b[0;34m\"cleaned_lyrics\"\u001b[0m\u001b[0;34m]\u001b[0m\u001b[0;34m.\u001b[0m\u001b[0msummary\u001b[0m\u001b[0;34m(\u001b[0m\u001b[0;34m)\u001b[0m\u001b[0;34m\u001b[0m\u001b[0;34m\u001b[0m\u001b[0m\n\u001b[0m",
      "\u001b[0;32m~/.pyenv/versions/3.10.6/envs/song-sentiment-recommendation/lib/python3.10/site-packages/pandas/core/generic.py\u001b[0m in \u001b[0;36m?\u001b[0;34m(self, name)\u001b[0m\n\u001b[1;32m   6295\u001b[0m             \u001b[0;32mand\u001b[0m \u001b[0mname\u001b[0m \u001b[0;32mnot\u001b[0m \u001b[0;32min\u001b[0m \u001b[0mself\u001b[0m\u001b[0;34m.\u001b[0m\u001b[0m_accessors\u001b[0m\u001b[0;34m\u001b[0m\u001b[0;34m\u001b[0m\u001b[0m\n\u001b[1;32m   6296\u001b[0m             \u001b[0;32mand\u001b[0m \u001b[0mself\u001b[0m\u001b[0;34m.\u001b[0m\u001b[0m_info_axis\u001b[0m\u001b[0;34m.\u001b[0m\u001b[0m_can_hold_identifiers_and_holds_name\u001b[0m\u001b[0;34m(\u001b[0m\u001b[0mname\u001b[0m\u001b[0;34m)\u001b[0m\u001b[0;34m\u001b[0m\u001b[0;34m\u001b[0m\u001b[0m\n\u001b[1;32m   6297\u001b[0m         ):\n\u001b[1;32m   6298\u001b[0m             \u001b[0;32mreturn\u001b[0m \u001b[0mself\u001b[0m\u001b[0;34m[\u001b[0m\u001b[0mname\u001b[0m\u001b[0;34m]\u001b[0m\u001b[0;34m\u001b[0m\u001b[0;34m\u001b[0m\u001b[0m\n\u001b[0;32m-> 6299\u001b[0;31m         \u001b[0;32mreturn\u001b[0m \u001b[0mobject\u001b[0m\u001b[0;34m.\u001b[0m\u001b[0m__getattribute__\u001b[0m\u001b[0;34m(\u001b[0m\u001b[0mself\u001b[0m\u001b[0;34m,\u001b[0m \u001b[0mname\u001b[0m\u001b[0;34m)\u001b[0m\u001b[0;34m\u001b[0m\u001b[0;34m\u001b[0m\u001b[0m\n\u001b[0m",
      "\u001b[0;31mAttributeError\u001b[0m: 'Series' object has no attribute 'summary'"
     ]
    }
   ],
   "source": [
    "lyrics[\"cleaned_lyrics\"]."
   ]
  },
  {
   "cell_type": "code",
   "execution_count": 63,
   "id": "7f6598cf",
   "metadata": {},
   "outputs": [
    {
     "data": {
      "text/plain": [
       "'there come a time in everybodys life when they get ta make a change im tire of be a villain imma change im not gon be your villain anymore and dont think i ’ ll live a life of keep score im not gon be your villain anymore and dont think i ’ ll live a life of keep score im not gon be flat break live in the hood when i need money i be up to no good your family rich my family poor i would trade place with you if i could but i get ta play with the card i be deal down on my knee ask god for some help man of the house my dad walk out mistake get make when you father yourself i be raise on the block a menace to society but a a little kid i be innocent entirely time go by life get hard til i start feel like a villain be inside of me mad at the world but i cant cry heart full of pain and i cant lie i do a lot of dirt but now i wan na change to the bad guy in me i say bye im not gon be your villain anymore and dont think i ’ ll live a life of keep score im not gon be your villain anymore i dont wan na be the villain no more and dont think i ’ ll live a life of keep score hey hey no more im not gon be i dont wan na be the villain no more inside my mind fight my own war half of me want to be the good guy but the other half want to kick down your door mix emotion they start to confuse me last night i hop in my car with an uzi hater dont feel me some wan na kill me i dont really wan na be the star of this movie too many year i do fight off regret imma bail like christian and walk off the set you can tell the director and the producer to keep that noose when it fall off my neck i be hang myself i couldnt breathe trap in the ghetto i couldnt leave i couldnt think i couldnt see i couldnt take it man i couldnt be guess i think it be nothing else out there for a dropout raise on welfare brave enough to rob a bank in a heartbeat but too scar to take my life elsewhere it aint easy to go straight blind faith step to the plate i pack up my bag i walk out the door i aint come back around this bitch til im great im not gon be your villain anymore i dont wan na be the villain no more and dont think i ’ ll live a life of keep score hey hey no more im not gon be your villain anymore i dont wan na be the villain no more and dont think i ’ ll live a life of keep score no more im not gon be put your hand in the air if you feel me imma change my life if it kill me ho ho put your hand in the air if you feel me hey hey imma change my life if it kill me put your hand in the air if you feel me hey hey imma change my life if it kill me put your hand in the air if you feel me hey hey i dont wan na be i dont wan na be im not gon be your villain anymore and dont think i ’ ll live a life of keep score hey… hey im not gon be no more'"
      ]
     },
     "execution_count": 63,
     "metadata": {},
     "output_type": "execute_result"
    }
   ],
   "source": [
    "lyrics[\"cleaned_lyrics\"][4995]"
   ]
  },
  {
   "cell_type": "code",
   "execution_count": 72,
   "id": "aead8160",
   "metadata": {},
   "outputs": [
    {
     "data": {
      "text/plain": [
       "2889.5334"
      ]
     },
     "execution_count": 72,
     "metadata": {},
     "output_type": "execute_result"
    }
   ],
   "source": [
    "lyrics['length'] = lyrics['cleaned_lyrics'].apply(len)\n",
    "\n",
    "average_length = lyrics['length'].mean()\n",
    "average_length"
   ]
  },
  {
   "cell_type": "code",
   "execution_count": 81,
   "id": "50e7da95",
   "metadata": {},
   "outputs": [
    {
     "data": {
      "text/plain": [
       "2385"
      ]
     },
     "execution_count": 81,
     "metadata": {},
     "output_type": "execute_result"
    }
   ],
   "source": [
    "ex = lyrics[\"cleaned_lyrics\"][50].replace(\" \", \"\")\n",
    "len(ex)"
   ]
  },
  {
   "cell_type": "code",
   "execution_count": 82,
   "id": "5e4655f5",
   "metadata": {},
   "outputs": [
    {
     "data": {
      "application/vnd.jupyter.widget-view+json": {
       "model_id": "2a8dd80a89d8411a9440c52b5f712670",
       "version_major": 2,
       "version_minor": 0
      },
      "text/plain": [
       "config.json:   0%|          | 0.00/759 [00:00<?, ?B/s]"
      ]
     },
     "metadata": {},
     "output_type": "display_data"
    },
    {
     "data": {
      "application/vnd.jupyter.widget-view+json": {
       "model_id": "75c39e913ddf4beaa9818fe697a5dba4",
       "version_major": 2,
       "version_minor": 0
      },
      "text/plain": [
       "model.safetensors:   0%|          | 0.00/541M [00:00<?, ?B/s]"
      ]
     },
     "metadata": {},
     "output_type": "display_data"
    },
    {
     "data": {
      "application/vnd.jupyter.widget-view+json": {
       "model_id": "19c613d6b8874ba7bad984d8225689cb",
       "version_major": 2,
       "version_minor": 0
      },
      "text/plain": [
       "tokenizer_config.json:   0%|          | 0.00/373 [00:00<?, ?B/s]"
      ]
     },
     "metadata": {},
     "output_type": "display_data"
    },
    {
     "data": {
      "application/vnd.jupyter.widget-view+json": {
       "model_id": "d489b8578ecf45eea1cfaefad643bcc9",
       "version_major": 2,
       "version_minor": 0
      },
      "text/plain": [
       "vocab.txt:   0%|          | 0.00/996k [00:00<?, ?B/s]"
      ]
     },
     "metadata": {},
     "output_type": "display_data"
    },
    {
     "data": {
      "application/vnd.jupyter.widget-view+json": {
       "model_id": "ea3bdf37361b4fa19d6ff47db6c82282",
       "version_major": 2,
       "version_minor": 0
      },
      "text/plain": [
       "tokenizer.json:   0%|          | 0.00/2.92M [00:00<?, ?B/s]"
      ]
     },
     "metadata": {},
     "output_type": "display_data"
    },
    {
     "data": {
      "application/vnd.jupyter.widget-view+json": {
       "model_id": "73f28f8cefc04910ae645775f38292ce",
       "version_major": 2,
       "version_minor": 0
      },
      "text/plain": [
       "special_tokens_map.json:   0%|          | 0.00/125 [00:00<?, ?B/s]"
      ]
     },
     "metadata": {},
     "output_type": "display_data"
    },
    {
     "name": "stderr",
     "output_type": "stream",
     "text": [
      "Hardware accelerator e.g. GPU is available in the environment, but no `device` argument is passed to the `Pipeline` object. Model will be on CPU.\n"
     ]
    }
   ],
   "source": [
    "pipe2 = pipeline(\"text-classification\", model=\"lxyuan/distilbert-base-multilingual-cased-sentiments-student\")"
   ]
  },
  {
   "cell_type": "code",
   "execution_count": null,
   "id": "abc7c50f",
   "metadata": {},
   "outputs": [],
   "source": [
    "list_of_artists = []\n",
    "list_of_tracks = []\n",
    "list_of_track_ids = []\n",
    "list_of_lyrics = []\n",
    "list_of_artist_id = []\n",
    "list_of_album_names = []\n",
    "def search_lyrics(base_response):\n",
    "    index = 0\n",
    "    url = 'https://api.musixmatch.com/ws/1.1/track.search'\n",
    "\n",
    "    api_key = ‘YOUR ‘API KEY\n",
    "\n",
    "    params = {'apikey': api_key,\n",
    "         'q_lyrics': \"hello from the other side\",\n",
    "         'f_has_lyrics': True,\n",
    "         's_track_rating': 'desc',\n",
    "         'quorum_factor': 1,\n",
    "         'page_size': 100}\n",
    "    response = requests.get(url, params=params).json()\n",
    "    while index < len(response['message']['body']['track_list']):\n",
    "        base_response = response['message']['body']['track_list'][index]\n",
    "        artist_name = base_response['track']['artist_name']\n",
    "        track_name = base_response['track']['track_name']\n",
    "        track_id = base_response['track']['track_id']\n",
    "        artist_id = base_response['track']['artist_id']\n",
    "album_name = base_response['track']['album_name']\n",
    "        list_of_artists.append(artist_name)\n",
    "        list_of_tracks.append(track_name)\n",
    "        list_of_track_ids.append(track_id)\n",
    "        list_of_artist_id.append(artist_id)\n",
    "        list_of_album_names.append(album_name)\n",
    "        url_lyrics = 'https://api.musixmatch.com/ws/1.1/track.lyrics.get'\n",
    "        params_lyrics = {'apikey': api_key, 'track_id': track_id}\n",
    "        lyrics_response = requests.get(url_lyrics, params=params_lyrics).json()\n",
    "        lyrics_snippet = lyrics_response['message']['body']['lyrics']['lyrics_body']\n",
    "        list_of_lyrics.append(lyrics_snippet)\n",
    "        index += 1\n",
    "    return list_of_artists, list_of_tracks, list_of_track_ids, list_of_lyrics"
   ]
  },
  {
   "cell_type": "code",
   "execution_count": null,
   "id": "34f81a43",
   "metadata": {},
   "outputs": [],
   "source": [
    "search_lyrics(base_response)\n",
    "new_lyrics_df = pd.DataFrame({\n",
    "                        'Artist_id': list_of_artist_id,\n",
    "                        'Artist': list_of_artists,\n",
    "                        'Track': list_of_tracks, \n",
    "                        'Track_ID': list_of_track_ids,\n",
    "                        'Album_Name': list_of_album_names,\n",
    "                        'Lyric_Snippet': list_of_lyrics,\n",
    "})\n",
    "new_lyrics_df\n",
    "new_lyrics_df['cleaned_lyric'] = new_lyrics_df['Lyric_Snippet'].apply(clean)"
   ]
  },
  {
   "cell_type": "markdown",
   "id": "50ac8770",
   "metadata": {},
   "source": [
    "### MusicMatch"
   ]
  },
  {
   "cell_type": "code",
   "execution_count": 91,
   "id": "5ce70e11",
   "metadata": {},
   "outputs": [],
   "source": [
    "import requests"
   ]
  },
  {
   "cell_type": "code",
   "execution_count": 92,
   "id": "748c9e89",
   "metadata": {},
   "outputs": [],
   "source": [
    "# Initialize empty lists\n",
    "list_of_artists = []\n",
    "list_of_tracks = []\n",
    "list_of_track_ids = []\n",
    "list_of_lyrics = []\n",
    "list_of_artist_id = []\n",
    "list_of_album_names = []\n",
    "\n",
    "# Define musixmatch get function\n",
    "def search_lyrics():\n",
    "    index = 0\n",
    "    url = 'https://api.musixmatch.com/ws/1.1/track.search'\n",
    "\n",
    "    api_key = \"621ae84202b7ccba1ac19cce2e400496\"\n",
    "\n",
    "    params = {'apikey': api_key,\n",
    "         'q_lyrics': \"hello from the other side\",\n",
    "         'f_has_lyrics': True,\n",
    "         's_track_rating': 'desc',\n",
    "         'quorum_factor': 1,\n",
    "         'page_size': 100}\n",
    "    response = requests.get(url, params=params).json()\n",
    "    while index < len(response['message']['body']['track_list']):\n",
    "        base_response = response['message']['body']['track_list'][index]\n",
    "        artist_name = base_response['track']['artist_name']\n",
    "        track_name = base_response['track']['track_name']\n",
    "        track_id = base_response['track']['track_id']\n",
    "        artist_id = base_response['track']['artist_id']\n",
    "        album_name = base_response['track']['album_name']\n",
    "        list_of_artists.append(artist_name)\n",
    "        list_of_tracks.append(track_name)\n",
    "        list_of_track_ids.append(track_id)\n",
    "        list_of_artist_id.append(artist_id)\n",
    "        list_of_album_names.append(album_name)\n",
    "        url_lyrics = 'https://api.musixmatch.com/ws/1.1/track.lyrics.get'\n",
    "        params_lyrics = {'apikey': api_key, 'track_id': track_id}\n",
    "        lyrics_response = requests.get(url_lyrics, params=params_lyrics).json()\n",
    "        lyrics_snippet = lyrics_response['message']['body']['lyrics']['lyrics_body']\n",
    "        list_of_lyrics.append(lyrics_snippet)\n",
    "        index += 1\n",
    "    return list_of_artists, list_of_tracks, list_of_track_ids, list_of_lyrics"
   ]
  },
  {
   "cell_type": "code",
   "execution_count": 94,
   "id": "f5c5f0ca",
   "metadata": {},
   "outputs": [
    {
     "data": {
      "text/html": [
       "<div>\n",
       "<style scoped>\n",
       "    .dataframe tbody tr th:only-of-type {\n",
       "        vertical-align: middle;\n",
       "    }\n",
       "\n",
       "    .dataframe tbody tr th {\n",
       "        vertical-align: top;\n",
       "    }\n",
       "\n",
       "    .dataframe thead th {\n",
       "        text-align: right;\n",
       "    }\n",
       "</style>\n",
       "<table border=\"1\" class=\"dataframe\">\n",
       "  <thead>\n",
       "    <tr style=\"text-align: right;\">\n",
       "      <th></th>\n",
       "      <th>Artist_id</th>\n",
       "      <th>Artist</th>\n",
       "      <th>Track</th>\n",
       "      <th>Track_ID</th>\n",
       "      <th>Album_Name</th>\n",
       "      <th>Lyric_Snippet</th>\n",
       "    </tr>\n",
       "  </thead>\n",
       "  <tbody>\n",
       "    <tr>\n",
       "      <th>0</th>\n",
       "      <td>346898</td>\n",
       "      <td>Adele</td>\n",
       "      <td>Hello</td>\n",
       "      <td>84213309</td>\n",
       "      <td>25</td>\n",
       "      <td>Hello, it's me\\nI was wondering if after all t...</td>\n",
       "    </tr>\n",
       "    <tr>\n",
       "      <th>1</th>\n",
       "      <td>41881114</td>\n",
       "      <td>Tyler, The Creator</td>\n",
       "      <td>A BOY IS A GUN*</td>\n",
       "      <td>170321152</td>\n",
       "      <td>IGOR</td>\n",
       "      <td>Don't, don't shoot me down (yeah)\\nDon't, don'...</td>\n",
       "    </tr>\n",
       "    <tr>\n",
       "      <th>2</th>\n",
       "      <td>56315619</td>\n",
       "      <td>CHASE B feat. Travis Scott, Don Toliver, Quavo...</td>\n",
       "      <td>Ring Ring (feat. Travis Scott, Don Toliver, Qu...</td>\n",
       "      <td>256345439</td>\n",
       "      <td>Ring Ring (feat. Travis Scott, Don Toliver, Qu...</td>\n",
       "      <td>Ooh, ooh, ooh-ooh\\nI'm waitin', still waitin' ...</td>\n",
       "    </tr>\n",
       "    <tr>\n",
       "      <th>3</th>\n",
       "      <td>53970178</td>\n",
       "      <td>Jacquees feat. DeJ Loaf</td>\n",
       "      <td>At The Club</td>\n",
       "      <td>137592003</td>\n",
       "      <td>At The Club</td>\n",
       "      <td>Oh, oh\\nOh, oh, oh\\n(From Detroit's west side)...</td>\n",
       "    </tr>\n",
       "    <tr>\n",
       "      <th>4</th>\n",
       "      <td>46533632</td>\n",
       "      <td>D-Block Europe feat. RAYE</td>\n",
       "      <td>Ferrari Horses</td>\n",
       "      <td>203248258</td>\n",
       "      <td>The Blue Print – Us Vs. Them</td>\n",
       "      <td>This is so fun\\n(On the way, mhm-hm)\\n\\nHello?...</td>\n",
       "    </tr>\n",
       "    <tr>\n",
       "      <th>...</th>\n",
       "      <td>...</td>\n",
       "      <td>...</td>\n",
       "      <td>...</td>\n",
       "      <td>...</td>\n",
       "      <td>...</td>\n",
       "      <td>...</td>\n",
       "    </tr>\n",
       "    <tr>\n",
       "      <th>149</th>\n",
       "      <td>14351627</td>\n",
       "      <td>Smash Into Pieces</td>\n",
       "      <td>Glow in the Dark</td>\n",
       "      <td>219834873</td>\n",
       "      <td>A New Horizon</td>\n",
       "      <td>Black is back to attack\\nDo you wanna take me ...</td>\n",
       "    </tr>\n",
       "    <tr>\n",
       "      <th>150</th>\n",
       "      <td>1017</td>\n",
       "      <td>Frank Zappa</td>\n",
       "      <td>The Adventures Of Greggery Peccary</td>\n",
       "      <td>92585842</td>\n",
       "      <td>Studio Tan</td>\n",
       "      <td>The adventures of Greggery Peccary\\n\\nOh, here...</td>\n",
       "    </tr>\n",
       "    <tr>\n",
       "      <th>151</th>\n",
       "      <td>24653991</td>\n",
       "      <td>Olamide feat. D'Banj</td>\n",
       "      <td>First of All (Remix)</td>\n",
       "      <td>33422900</td>\n",
       "      <td>D'Banj Presents D'Kings Men</td>\n",
       "      <td>Charle, you fit say I make a fool o\\nI no send...</td>\n",
       "    </tr>\n",
       "    <tr>\n",
       "      <th>152</th>\n",
       "      <td>24447522</td>\n",
       "      <td>\"Weird Al\" Yankovic</td>\n",
       "      <td>Jackson Park Express</td>\n",
       "      <td>73050307</td>\n",
       "      <td>Mandatory Fun</td>\n",
       "      <td>Tuesday morning, eight-fifteen\\nI was riding t...</td>\n",
       "    </tr>\n",
       "    <tr>\n",
       "      <th>153</th>\n",
       "      <td>45533687</td>\n",
       "      <td>Chalino Sanchez feat. Los Guamúchileños</td>\n",
       "      <td>Aurelio Sánchez Quintero</td>\n",
       "      <td>48700370</td>\n",
       "      <td>Corridos De Los Félix Y Los Quintero</td>\n",
       "      <td>Hello, it's me\\nI was wondering if after all t...</td>\n",
       "    </tr>\n",
       "  </tbody>\n",
       "</table>\n",
       "<p>154 rows × 6 columns</p>\n",
       "</div>"
      ],
      "text/plain": [
       "     Artist_id                                             Artist  \\\n",
       "0       346898                                              Adele   \n",
       "1     41881114                                 Tyler, The Creator   \n",
       "2     56315619  CHASE B feat. Travis Scott, Don Toliver, Quavo...   \n",
       "3     53970178                            Jacquees feat. DeJ Loaf   \n",
       "4     46533632                          D-Block Europe feat. RAYE   \n",
       "..         ...                                                ...   \n",
       "149   14351627                                  Smash Into Pieces   \n",
       "150       1017                                        Frank Zappa   \n",
       "151   24653991                               Olamide feat. D'Banj   \n",
       "152   24447522                                \"Weird Al\" Yankovic   \n",
       "153   45533687            Chalino Sanchez feat. Los Guamúchileños   \n",
       "\n",
       "                                                 Track   Track_ID  \\\n",
       "0                                                Hello   84213309   \n",
       "1                                      A BOY IS A GUN*  170321152   \n",
       "2    Ring Ring (feat. Travis Scott, Don Toliver, Qu...  256345439   \n",
       "3                                          At The Club  137592003   \n",
       "4                                       Ferrari Horses  203248258   \n",
       "..                                                 ...        ...   \n",
       "149                                   Glow in the Dark  219834873   \n",
       "150                 The Adventures Of Greggery Peccary   92585842   \n",
       "151                               First of All (Remix)   33422900   \n",
       "152                               Jackson Park Express   73050307   \n",
       "153                           Aurelio Sánchez Quintero   48700370   \n",
       "\n",
       "                                            Album_Name  \\\n",
       "0                                                   25   \n",
       "1                                                 IGOR   \n",
       "2    Ring Ring (feat. Travis Scott, Don Toliver, Qu...   \n",
       "3                                          At The Club   \n",
       "4                         The Blue Print – Us Vs. Them   \n",
       "..                                                 ...   \n",
       "149                                      A New Horizon   \n",
       "150                                         Studio Tan   \n",
       "151                        D'Banj Presents D'Kings Men   \n",
       "152                                      Mandatory Fun   \n",
       "153               Corridos De Los Félix Y Los Quintero   \n",
       "\n",
       "                                         Lyric_Snippet  \n",
       "0    Hello, it's me\\nI was wondering if after all t...  \n",
       "1    Don't, don't shoot me down (yeah)\\nDon't, don'...  \n",
       "2    Ooh, ooh, ooh-ooh\\nI'm waitin', still waitin' ...  \n",
       "3    Oh, oh\\nOh, oh, oh\\n(From Detroit's west side)...  \n",
       "4    This is so fun\\n(On the way, mhm-hm)\\n\\nHello?...  \n",
       "..                                                 ...  \n",
       "149  Black is back to attack\\nDo you wanna take me ...  \n",
       "150  The adventures of Greggery Peccary\\n\\nOh, here...  \n",
       "151  Charle, you fit say I make a fool o\\nI no send...  \n",
       "152  Tuesday morning, eight-fifteen\\nI was riding t...  \n",
       "153  Hello, it's me\\nI was wondering if after all t...  \n",
       "\n",
       "[154 rows x 6 columns]"
      ]
     },
     "execution_count": 94,
     "metadata": {},
     "output_type": "execute_result"
    }
   ],
   "source": [
    "search_lyrics()\n",
    "new_lyrics_df = pd.DataFrame({\n",
    "                        'Artist_id': list_of_artist_id,\n",
    "                        'Artist': list_of_artists,\n",
    "                        'Track': list_of_tracks, \n",
    "                        'Track_ID': list_of_track_ids,\n",
    "                        'Album_Name': list_of_album_names,\n",
    "                        'Lyric_Snippet': list_of_lyrics,\n",
    "})\n",
    "new_lyrics_df"
   ]
  },
  {
   "cell_type": "code",
   "execution_count": 97,
   "id": "5616f738",
   "metadata": {},
   "outputs": [],
   "source": [
    "new_lyrics_df['cleaned_lyrics'] = new_lyrics_df['Lyric_Snippet'].apply(preprocessing)"
   ]
  },
  {
   "cell_type": "code",
   "execution_count": 102,
   "id": "89c75e1f",
   "metadata": {},
   "outputs": [
    {
     "data": {
      "text/html": [
       "<div>\n",
       "<style scoped>\n",
       "    .dataframe tbody tr th:only-of-type {\n",
       "        vertical-align: middle;\n",
       "    }\n",
       "\n",
       "    .dataframe tbody tr th {\n",
       "        vertical-align: top;\n",
       "    }\n",
       "\n",
       "    .dataframe thead th {\n",
       "        text-align: right;\n",
       "    }\n",
       "</style>\n",
       "<table border=\"1\" class=\"dataframe\">\n",
       "  <thead>\n",
       "    <tr style=\"text-align: right;\">\n",
       "      <th></th>\n",
       "      <th>Artist_id</th>\n",
       "      <th>Artist</th>\n",
       "      <th>Track</th>\n",
       "      <th>Track_ID</th>\n",
       "      <th>Album_Name</th>\n",
       "      <th>Lyric_Snippet</th>\n",
       "      <th>cleaned_lyric</th>\n",
       "      <th>cleaned_lyrics</th>\n",
       "    </tr>\n",
       "  </thead>\n",
       "  <tbody>\n",
       "    <tr>\n",
       "      <th>0</th>\n",
       "      <td>346898</td>\n",
       "      <td>Adele</td>\n",
       "      <td>Hello</td>\n",
       "      <td>84213309</td>\n",
       "      <td>25</td>\n",
       "      <td>Hello, it's me\\nI was wondering if after all t...</td>\n",
       "      <td>hello it me i be wonder if after all these yea...</td>\n",
       "      <td>hello it me i be wonder if after all these yea...</td>\n",
       "    </tr>\n",
       "    <tr>\n",
       "      <th>1</th>\n",
       "      <td>41881114</td>\n",
       "      <td>Tyler, The Creator</td>\n",
       "      <td>A BOY IS A GUN*</td>\n",
       "      <td>170321152</td>\n",
       "      <td>IGOR</td>\n",
       "      <td>Don't, don't shoot me down (yeah)\\nDon't, don'...</td>\n",
       "      <td>dont dont shoot me down yeah dont dont shoot m...</td>\n",
       "      <td>dont dont shoot me down yeah dont dont shoot m...</td>\n",
       "    </tr>\n",
       "    <tr>\n",
       "      <th>2</th>\n",
       "      <td>56315619</td>\n",
       "      <td>CHASE B feat. Travis Scott, Don Toliver, Quavo...</td>\n",
       "      <td>Ring Ring (feat. Travis Scott, Don Toliver, Qu...</td>\n",
       "      <td>256345439</td>\n",
       "      <td>Ring Ring (feat. Travis Scott, Don Toliver, Qu...</td>\n",
       "      <td>Ooh, ooh, ooh-ooh\\nI'm waitin', still waitin' ...</td>\n",
       "      <td>ooh ooh oohooh im waitin still waitin oohooh o...</td>\n",
       "      <td>ooh ooh oohooh im waitin still waitin oohooh o...</td>\n",
       "    </tr>\n",
       "    <tr>\n",
       "      <th>3</th>\n",
       "      <td>53970178</td>\n",
       "      <td>Jacquees feat. DeJ Loaf</td>\n",
       "      <td>At The Club</td>\n",
       "      <td>137592003</td>\n",
       "      <td>At The Club</td>\n",
       "      <td>Oh, oh\\nOh, oh, oh\\n(From Detroit's west side)...</td>\n",
       "      <td>oh oh oh oh oh from detroit west side yeah yea...</td>\n",
       "      <td>oh oh oh oh oh from detroit west side yeah yea...</td>\n",
       "    </tr>\n",
       "    <tr>\n",
       "      <th>4</th>\n",
       "      <td>46533632</td>\n",
       "      <td>D-Block Europe feat. RAYE</td>\n",
       "      <td>Ferrari Horses</td>\n",
       "      <td>203248258</td>\n",
       "      <td>The Blue Print – Us Vs. Them</td>\n",
       "      <td>This is so fun\\n(On the way, mhm-hm)\\n\\nHello?...</td>\n",
       "      <td>this be so fun on the way mhmhm hello yo beatf...</td>\n",
       "      <td>this be so fun on the way mhmhm hello yo beatf...</td>\n",
       "    </tr>\n",
       "  </tbody>\n",
       "</table>\n",
       "</div>"
      ],
      "text/plain": [
       "   Artist_id                                             Artist  \\\n",
       "0     346898                                              Adele   \n",
       "1   41881114                                 Tyler, The Creator   \n",
       "2   56315619  CHASE B feat. Travis Scott, Don Toliver, Quavo...   \n",
       "3   53970178                            Jacquees feat. DeJ Loaf   \n",
       "4   46533632                          D-Block Europe feat. RAYE   \n",
       "\n",
       "                                               Track   Track_ID  \\\n",
       "0                                              Hello   84213309   \n",
       "1                                    A BOY IS A GUN*  170321152   \n",
       "2  Ring Ring (feat. Travis Scott, Don Toliver, Qu...  256345439   \n",
       "3                                        At The Club  137592003   \n",
       "4                                     Ferrari Horses  203248258   \n",
       "\n",
       "                                          Album_Name  \\\n",
       "0                                                 25   \n",
       "1                                               IGOR   \n",
       "2  Ring Ring (feat. Travis Scott, Don Toliver, Qu...   \n",
       "3                                        At The Club   \n",
       "4                       The Blue Print – Us Vs. Them   \n",
       "\n",
       "                                       Lyric_Snippet  \\\n",
       "0  Hello, it's me\\nI was wondering if after all t...   \n",
       "1  Don't, don't shoot me down (yeah)\\nDon't, don'...   \n",
       "2  Ooh, ooh, ooh-ooh\\nI'm waitin', still waitin' ...   \n",
       "3  Oh, oh\\nOh, oh, oh\\n(From Detroit's west side)...   \n",
       "4  This is so fun\\n(On the way, mhm-hm)\\n\\nHello?...   \n",
       "\n",
       "                                       cleaned_lyric  \\\n",
       "0  hello it me i be wonder if after all these yea...   \n",
       "1  dont dont shoot me down yeah dont dont shoot m...   \n",
       "2  ooh ooh oohooh im waitin still waitin oohooh o...   \n",
       "3  oh oh oh oh oh from detroit west side yeah yea...   \n",
       "4  this be so fun on the way mhmhm hello yo beatf...   \n",
       "\n",
       "                                      cleaned_lyrics  \n",
       "0  hello it me i be wonder if after all these yea...  \n",
       "1  dont dont shoot me down yeah dont dont shoot m...  \n",
       "2  ooh ooh oohooh im waitin still waitin oohooh o...  \n",
       "3  oh oh oh oh oh from detroit west side yeah yea...  \n",
       "4  this be so fun on the way mhmhm hello yo beatf...  "
      ]
     },
     "execution_count": 102,
     "metadata": {},
     "output_type": "execute_result"
    }
   ],
   "source": [
    "new_lyrics_df.head()"
   ]
  },
  {
   "cell_type": "code",
   "execution_count": 103,
   "id": "2cb66d79",
   "metadata": {},
   "outputs": [],
   "source": [
    "new_lyrics_df[\"sentiment_score\"] = new_lyrics_df[\"cleaned_lyrics\"].apply(get_sentiment_score)"
   ]
  },
  {
   "cell_type": "code",
   "execution_count": 104,
   "id": "18310c44",
   "metadata": {},
   "outputs": [],
   "source": [
    "new_lyrics_df[\"sentiment_label\"] = new_lyrics_df[\"cleaned_lyrics\"].apply(get_sentiment_label)"
   ]
  },
  {
   "cell_type": "code",
   "execution_count": 105,
   "id": "a758bec3",
   "metadata": {},
   "outputs": [
    {
     "data": {
      "text/html": [
       "<div>\n",
       "<style scoped>\n",
       "    .dataframe tbody tr th:only-of-type {\n",
       "        vertical-align: middle;\n",
       "    }\n",
       "\n",
       "    .dataframe tbody tr th {\n",
       "        vertical-align: top;\n",
       "    }\n",
       "\n",
       "    .dataframe thead th {\n",
       "        text-align: right;\n",
       "    }\n",
       "</style>\n",
       "<table border=\"1\" class=\"dataframe\">\n",
       "  <thead>\n",
       "    <tr style=\"text-align: right;\">\n",
       "      <th></th>\n",
       "      <th>Artist_id</th>\n",
       "      <th>Artist</th>\n",
       "      <th>Track</th>\n",
       "      <th>Track_ID</th>\n",
       "      <th>Album_Name</th>\n",
       "      <th>Lyric_Snippet</th>\n",
       "      <th>cleaned_lyric</th>\n",
       "      <th>cleaned_lyrics</th>\n",
       "      <th>sentiment_score</th>\n",
       "      <th>sentiment_label</th>\n",
       "    </tr>\n",
       "  </thead>\n",
       "  <tbody>\n",
       "    <tr>\n",
       "      <th>0</th>\n",
       "      <td>346898</td>\n",
       "      <td>Adele</td>\n",
       "      <td>Hello</td>\n",
       "      <td>84213309</td>\n",
       "      <td>25</td>\n",
       "      <td>Hello, it's me\\nI was wondering if after all t...</td>\n",
       "      <td>hello it me i be wonder if after all these yea...</td>\n",
       "      <td>hello it me i be wonder if after all these yea...</td>\n",
       "      <td>0.608064</td>\n",
       "      <td>neutral</td>\n",
       "    </tr>\n",
       "    <tr>\n",
       "      <th>1</th>\n",
       "      <td>41881114</td>\n",
       "      <td>Tyler, The Creator</td>\n",
       "      <td>A BOY IS A GUN*</td>\n",
       "      <td>170321152</td>\n",
       "      <td>IGOR</td>\n",
       "      <td>Don't, don't shoot me down (yeah)\\nDon't, don'...</td>\n",
       "      <td>dont dont shoot me down yeah dont dont shoot m...</td>\n",
       "      <td>dont dont shoot me down yeah dont dont shoot m...</td>\n",
       "      <td>0.906632</td>\n",
       "      <td>negative</td>\n",
       "    </tr>\n",
       "    <tr>\n",
       "      <th>2</th>\n",
       "      <td>56315619</td>\n",
       "      <td>CHASE B feat. Travis Scott, Don Toliver, Quavo...</td>\n",
       "      <td>Ring Ring (feat. Travis Scott, Don Toliver, Qu...</td>\n",
       "      <td>256345439</td>\n",
       "      <td>Ring Ring (feat. Travis Scott, Don Toliver, Qu...</td>\n",
       "      <td>Ooh, ooh, ooh-ooh\\nI'm waitin', still waitin' ...</td>\n",
       "      <td>ooh ooh oohooh im waitin still waitin oohooh o...</td>\n",
       "      <td>ooh ooh oohooh im waitin still waitin oohooh o...</td>\n",
       "      <td>0.535718</td>\n",
       "      <td>neutral</td>\n",
       "    </tr>\n",
       "    <tr>\n",
       "      <th>3</th>\n",
       "      <td>53970178</td>\n",
       "      <td>Jacquees feat. DeJ Loaf</td>\n",
       "      <td>At The Club</td>\n",
       "      <td>137592003</td>\n",
       "      <td>At The Club</td>\n",
       "      <td>Oh, oh\\nOh, oh, oh\\n(From Detroit's west side)...</td>\n",
       "      <td>oh oh oh oh oh from detroit west side yeah yea...</td>\n",
       "      <td>oh oh oh oh oh from detroit west side yeah yea...</td>\n",
       "      <td>0.614120</td>\n",
       "      <td>positive</td>\n",
       "    </tr>\n",
       "    <tr>\n",
       "      <th>4</th>\n",
       "      <td>46533632</td>\n",
       "      <td>D-Block Europe feat. RAYE</td>\n",
       "      <td>Ferrari Horses</td>\n",
       "      <td>203248258</td>\n",
       "      <td>The Blue Print – Us Vs. Them</td>\n",
       "      <td>This is so fun\\n(On the way, mhm-hm)\\n\\nHello?...</td>\n",
       "      <td>this be so fun on the way mhmhm hello yo beatf...</td>\n",
       "      <td>this be so fun on the way mhmhm hello yo beatf...</td>\n",
       "      <td>0.869494</td>\n",
       "      <td>positive</td>\n",
       "    </tr>\n",
       "    <tr>\n",
       "      <th>...</th>\n",
       "      <td>...</td>\n",
       "      <td>...</td>\n",
       "      <td>...</td>\n",
       "      <td>...</td>\n",
       "      <td>...</td>\n",
       "      <td>...</td>\n",
       "      <td>...</td>\n",
       "      <td>...</td>\n",
       "      <td>...</td>\n",
       "      <td>...</td>\n",
       "    </tr>\n",
       "    <tr>\n",
       "      <th>149</th>\n",
       "      <td>14351627</td>\n",
       "      <td>Smash Into Pieces</td>\n",
       "      <td>Glow in the Dark</td>\n",
       "      <td>219834873</td>\n",
       "      <td>A New Horizon</td>\n",
       "      <td>Black is back to attack\\nDo you wanna take me ...</td>\n",
       "      <td>black be back to attack do you wan na take me ...</td>\n",
       "      <td>black be back to attack do you wan na take me ...</td>\n",
       "      <td>0.651081</td>\n",
       "      <td>neutral</td>\n",
       "    </tr>\n",
       "    <tr>\n",
       "      <th>150</th>\n",
       "      <td>1017</td>\n",
       "      <td>Frank Zappa</td>\n",
       "      <td>The Adventures Of Greggery Peccary</td>\n",
       "      <td>92585842</td>\n",
       "      <td>Studio Tan</td>\n",
       "      <td>The adventures of Greggery Peccary\\n\\nOh, here...</td>\n",
       "      <td>the adventure of greggery peccary oh here come...</td>\n",
       "      <td>the adventure of greggery peccary oh here come...</td>\n",
       "      <td>0.661123</td>\n",
       "      <td>neutral</td>\n",
       "    </tr>\n",
       "    <tr>\n",
       "      <th>151</th>\n",
       "      <td>24653991</td>\n",
       "      <td>Olamide feat. D'Banj</td>\n",
       "      <td>First of All (Remix)</td>\n",
       "      <td>33422900</td>\n",
       "      <td>D'Banj Presents D'Kings Men</td>\n",
       "      <td>Charle, you fit say I make a fool o\\nI no send...</td>\n",
       "      <td>charle you fit say i make a fool o i no send i...</td>\n",
       "      <td>charle you fit say i make a fool o i no send i...</td>\n",
       "      <td>0.632453</td>\n",
       "      <td>neutral</td>\n",
       "    </tr>\n",
       "    <tr>\n",
       "      <th>152</th>\n",
       "      <td>24447522</td>\n",
       "      <td>\"Weird Al\" Yankovic</td>\n",
       "      <td>Jackson Park Express</td>\n",
       "      <td>73050307</td>\n",
       "      <td>Mandatory Fun</td>\n",
       "      <td>Tuesday morning, eight-fifteen\\nI was riding t...</td>\n",
       "      <td>tuesday morning eightfifteen i be rid to work ...</td>\n",
       "      <td>tuesday morning eightfifteen i be rid to work ...</td>\n",
       "      <td>0.907743</td>\n",
       "      <td>positive</td>\n",
       "    </tr>\n",
       "    <tr>\n",
       "      <th>153</th>\n",
       "      <td>45533687</td>\n",
       "      <td>Chalino Sanchez feat. Los Guamúchileños</td>\n",
       "      <td>Aurelio Sánchez Quintero</td>\n",
       "      <td>48700370</td>\n",
       "      <td>Corridos De Los Félix Y Los Quintero</td>\n",
       "      <td>Hello, it's me\\nI was wondering if after all t...</td>\n",
       "      <td>hello it me i be wonder if after all these yea...</td>\n",
       "      <td>hello it me i be wonder if after all these yea...</td>\n",
       "      <td>0.603752</td>\n",
       "      <td>neutral</td>\n",
       "    </tr>\n",
       "  </tbody>\n",
       "</table>\n",
       "<p>154 rows × 10 columns</p>\n",
       "</div>"
      ],
      "text/plain": [
       "     Artist_id                                             Artist  \\\n",
       "0       346898                                              Adele   \n",
       "1     41881114                                 Tyler, The Creator   \n",
       "2     56315619  CHASE B feat. Travis Scott, Don Toliver, Quavo...   \n",
       "3     53970178                            Jacquees feat. DeJ Loaf   \n",
       "4     46533632                          D-Block Europe feat. RAYE   \n",
       "..         ...                                                ...   \n",
       "149   14351627                                  Smash Into Pieces   \n",
       "150       1017                                        Frank Zappa   \n",
       "151   24653991                               Olamide feat. D'Banj   \n",
       "152   24447522                                \"Weird Al\" Yankovic   \n",
       "153   45533687            Chalino Sanchez feat. Los Guamúchileños   \n",
       "\n",
       "                                                 Track   Track_ID  \\\n",
       "0                                                Hello   84213309   \n",
       "1                                      A BOY IS A GUN*  170321152   \n",
       "2    Ring Ring (feat. Travis Scott, Don Toliver, Qu...  256345439   \n",
       "3                                          At The Club  137592003   \n",
       "4                                       Ferrari Horses  203248258   \n",
       "..                                                 ...        ...   \n",
       "149                                   Glow in the Dark  219834873   \n",
       "150                 The Adventures Of Greggery Peccary   92585842   \n",
       "151                               First of All (Remix)   33422900   \n",
       "152                               Jackson Park Express   73050307   \n",
       "153                           Aurelio Sánchez Quintero   48700370   \n",
       "\n",
       "                                            Album_Name  \\\n",
       "0                                                   25   \n",
       "1                                                 IGOR   \n",
       "2    Ring Ring (feat. Travis Scott, Don Toliver, Qu...   \n",
       "3                                          At The Club   \n",
       "4                         The Blue Print – Us Vs. Them   \n",
       "..                                                 ...   \n",
       "149                                      A New Horizon   \n",
       "150                                         Studio Tan   \n",
       "151                        D'Banj Presents D'Kings Men   \n",
       "152                                      Mandatory Fun   \n",
       "153               Corridos De Los Félix Y Los Quintero   \n",
       "\n",
       "                                         Lyric_Snippet  \\\n",
       "0    Hello, it's me\\nI was wondering if after all t...   \n",
       "1    Don't, don't shoot me down (yeah)\\nDon't, don'...   \n",
       "2    Ooh, ooh, ooh-ooh\\nI'm waitin', still waitin' ...   \n",
       "3    Oh, oh\\nOh, oh, oh\\n(From Detroit's west side)...   \n",
       "4    This is so fun\\n(On the way, mhm-hm)\\n\\nHello?...   \n",
       "..                                                 ...   \n",
       "149  Black is back to attack\\nDo you wanna take me ...   \n",
       "150  The adventures of Greggery Peccary\\n\\nOh, here...   \n",
       "151  Charle, you fit say I make a fool o\\nI no send...   \n",
       "152  Tuesday morning, eight-fifteen\\nI was riding t...   \n",
       "153  Hello, it's me\\nI was wondering if after all t...   \n",
       "\n",
       "                                         cleaned_lyric  \\\n",
       "0    hello it me i be wonder if after all these yea...   \n",
       "1    dont dont shoot me down yeah dont dont shoot m...   \n",
       "2    ooh ooh oohooh im waitin still waitin oohooh o...   \n",
       "3    oh oh oh oh oh from detroit west side yeah yea...   \n",
       "4    this be so fun on the way mhmhm hello yo beatf...   \n",
       "..                                                 ...   \n",
       "149  black be back to attack do you wan na take me ...   \n",
       "150  the adventure of greggery peccary oh here come...   \n",
       "151  charle you fit say i make a fool o i no send i...   \n",
       "152  tuesday morning eightfifteen i be rid to work ...   \n",
       "153  hello it me i be wonder if after all these yea...   \n",
       "\n",
       "                                        cleaned_lyrics  sentiment_score  \\\n",
       "0    hello it me i be wonder if after all these yea...         0.608064   \n",
       "1    dont dont shoot me down yeah dont dont shoot m...         0.906632   \n",
       "2    ooh ooh oohooh im waitin still waitin oohooh o...         0.535718   \n",
       "3    oh oh oh oh oh from detroit west side yeah yea...         0.614120   \n",
       "4    this be so fun on the way mhmhm hello yo beatf...         0.869494   \n",
       "..                                                 ...              ...   \n",
       "149  black be back to attack do you wan na take me ...         0.651081   \n",
       "150  the adventure of greggery peccary oh here come...         0.661123   \n",
       "151  charle you fit say i make a fool o i no send i...         0.632453   \n",
       "152  tuesday morning eightfifteen i be rid to work ...         0.907743   \n",
       "153  hello it me i be wonder if after all these yea...         0.603752   \n",
       "\n",
       "    sentiment_label  \n",
       "0           neutral  \n",
       "1          negative  \n",
       "2           neutral  \n",
       "3          positive  \n",
       "4          positive  \n",
       "..              ...  \n",
       "149         neutral  \n",
       "150         neutral  \n",
       "151         neutral  \n",
       "152        positive  \n",
       "153         neutral  \n",
       "\n",
       "[154 rows x 10 columns]"
      ]
     },
     "execution_count": 105,
     "metadata": {},
     "output_type": "execute_result"
    }
   ],
   "source": [
    "new_lyrics_df"
   ]
  },
  {
   "cell_type": "code",
   "execution_count": null,
   "id": "94ad16ea",
   "metadata": {},
   "outputs": [],
   "source": []
  }
 ],
 "metadata": {
  "kernelspec": {
   "display_name": "Python 3 (ipykernel)",
   "language": "python",
   "name": "python3"
  },
  "language_info": {
   "codemirror_mode": {
    "name": "ipython",
    "version": 3
   },
   "file_extension": ".py",
   "mimetype": "text/x-python",
   "name": "python",
   "nbconvert_exporter": "python",
   "pygments_lexer": "ipython3",
   "version": "3.10.6"
  },
  "toc": {
   "base_numbering": 1,
   "nav_menu": {},
   "number_sections": true,
   "sideBar": true,
   "skip_h1_title": false,
   "title_cell": "Table of Contents",
   "title_sidebar": "Contents",
   "toc_cell": false,
   "toc_position": {},
   "toc_section_display": true,
   "toc_window_display": false
  }
 },
 "nbformat": 4,
 "nbformat_minor": 5
}
