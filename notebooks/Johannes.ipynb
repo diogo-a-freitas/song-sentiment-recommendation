{
 "cells": [
  {
   "cell_type": "code",
   "execution_count": 3,
   "id": "352a824b",
   "metadata": {},
   "outputs": [],
   "source": [
    "import numpy as np\n",
    "import pandas as pd"
   ]
  },
  {
   "cell_type": "code",
   "execution_count": 4,
   "id": "dacfcb22",
   "metadata": {},
   "outputs": [
    {
     "name": "stdout",
     "output_type": "stream",
     "text": [
      "Requirement already satisfied: transformers in /Users/jtr/.pyenv/versions/3.10.6/envs/song-sentiment-recommendation/lib/python3.10/site-packages (4.42.4)\n",
      "Requirement already satisfied: torch in /Users/jtr/.pyenv/versions/3.10.6/envs/song-sentiment-recommendation/lib/python3.10/site-packages (2.2.2)\n",
      "Requirement already satisfied: pytesseract in /Users/jtr/.pyenv/versions/3.10.6/envs/song-sentiment-recommendation/lib/python3.10/site-packages (0.3.10)\n",
      "Requirement already satisfied: filelock in /Users/jtr/.pyenv/versions/3.10.6/envs/song-sentiment-recommendation/lib/python3.10/site-packages (from transformers) (3.15.4)\n",
      "Requirement already satisfied: huggingface-hub<1.0,>=0.23.2 in /Users/jtr/.pyenv/versions/3.10.6/envs/song-sentiment-recommendation/lib/python3.10/site-packages (from transformers) (0.23.4)\n",
      "Requirement already satisfied: numpy<2.0,>=1.17 in /Users/jtr/.pyenv/versions/3.10.6/envs/song-sentiment-recommendation/lib/python3.10/site-packages (from transformers) (1.26.4)\n",
      "Requirement already satisfied: packaging>=20.0 in /Users/jtr/.pyenv/versions/3.10.6/envs/song-sentiment-recommendation/lib/python3.10/site-packages (from transformers) (24.1)\n",
      "Requirement already satisfied: pyyaml>=5.1 in /Users/jtr/.pyenv/versions/3.10.6/envs/song-sentiment-recommendation/lib/python3.10/site-packages (from transformers) (6.0.1)\n",
      "Requirement already satisfied: regex!=2019.12.17 in /Users/jtr/.pyenv/versions/3.10.6/envs/song-sentiment-recommendation/lib/python3.10/site-packages (from transformers) (2024.5.15)\n",
      "Requirement already satisfied: requests in /Users/jtr/.pyenv/versions/3.10.6/envs/song-sentiment-recommendation/lib/python3.10/site-packages (from transformers) (2.32.3)\n",
      "Requirement already satisfied: safetensors>=0.4.1 in /Users/jtr/.pyenv/versions/3.10.6/envs/song-sentiment-recommendation/lib/python3.10/site-packages (from transformers) (0.4.3)\n",
      "Requirement already satisfied: tokenizers<0.20,>=0.19 in /Users/jtr/.pyenv/versions/3.10.6/envs/song-sentiment-recommendation/lib/python3.10/site-packages (from transformers) (0.19.1)\n",
      "Requirement already satisfied: tqdm>=4.27 in /Users/jtr/.pyenv/versions/3.10.6/envs/song-sentiment-recommendation/lib/python3.10/site-packages (from transformers) (4.66.4)\n",
      "Requirement already satisfied: typing-extensions>=4.8.0 in /Users/jtr/.pyenv/versions/3.10.6/envs/song-sentiment-recommendation/lib/python3.10/site-packages (from torch) (4.12.2)\n",
      "Requirement already satisfied: sympy in /Users/jtr/.pyenv/versions/3.10.6/envs/song-sentiment-recommendation/lib/python3.10/site-packages (from torch) (1.13.0)\n",
      "Requirement already satisfied: networkx in /Users/jtr/.pyenv/versions/3.10.6/envs/song-sentiment-recommendation/lib/python3.10/site-packages (from torch) (3.3)\n",
      "Requirement already satisfied: jinja2 in /Users/jtr/.pyenv/versions/3.10.6/envs/song-sentiment-recommendation/lib/python3.10/site-packages (from torch) (3.1.4)\n",
      "Requirement already satisfied: fsspec in /Users/jtr/.pyenv/versions/3.10.6/envs/song-sentiment-recommendation/lib/python3.10/site-packages (from torch) (2024.6.1)\n",
      "Requirement already satisfied: Pillow>=8.0.0 in /Users/jtr/.pyenv/versions/3.10.6/envs/song-sentiment-recommendation/lib/python3.10/site-packages (from pytesseract) (10.4.0)\n",
      "Requirement already satisfied: MarkupSafe>=2.0 in /Users/jtr/.pyenv/versions/3.10.6/envs/song-sentiment-recommendation/lib/python3.10/site-packages (from jinja2->torch) (2.1.5)\n",
      "Requirement already satisfied: charset-normalizer<4,>=2 in /Users/jtr/.pyenv/versions/3.10.6/envs/song-sentiment-recommendation/lib/python3.10/site-packages (from requests->transformers) (3.3.2)\n",
      "Requirement already satisfied: idna<4,>=2.5 in /Users/jtr/.pyenv/versions/3.10.6/envs/song-sentiment-recommendation/lib/python3.10/site-packages (from requests->transformers) (3.7)\n",
      "Requirement already satisfied: urllib3<3,>=1.21.1 in /Users/jtr/.pyenv/versions/3.10.6/envs/song-sentiment-recommendation/lib/python3.10/site-packages (from requests->transformers) (2.2.2)\n",
      "Requirement already satisfied: certifi>=2017.4.17 in /Users/jtr/.pyenv/versions/3.10.6/envs/song-sentiment-recommendation/lib/python3.10/site-packages (from requests->transformers) (2024.7.4)\n",
      "Requirement already satisfied: mpmath<1.4,>=1.1.0 in /Users/jtr/.pyenv/versions/3.10.6/envs/song-sentiment-recommendation/lib/python3.10/site-packages (from sympy->torch) (1.3.0)\n"
     ]
    }
   ],
   "source": [
    "! pip install transformers torch pytesseract"
   ]
  },
  {
   "cell_type": "code",
   "execution_count": 5,
   "id": "81e1e4a8",
   "metadata": {},
   "outputs": [
    {
     "name": "stdout",
     "output_type": "stream",
     "text": [
      "Requirement already satisfied: sentencepiece in /Users/jtr/.pyenv/versions/3.10.6/envs/song-sentiment-recommendation/lib/python3.10/site-packages (0.2.0)\n",
      "Requirement already satisfied: sacremoses in /Users/jtr/.pyenv/versions/3.10.6/envs/song-sentiment-recommendation/lib/python3.10/site-packages (0.1.1)\n",
      "Requirement already satisfied: regex in /Users/jtr/.pyenv/versions/3.10.6/envs/song-sentiment-recommendation/lib/python3.10/site-packages (from sacremoses) (2024.5.15)\n",
      "Requirement already satisfied: click in /Users/jtr/.pyenv/versions/3.10.6/envs/song-sentiment-recommendation/lib/python3.10/site-packages (from sacremoses) (8.1.7)\n",
      "Requirement already satisfied: joblib in /Users/jtr/.pyenv/versions/3.10.6/envs/song-sentiment-recommendation/lib/python3.10/site-packages (from sacremoses) (1.4.2)\n",
      "Requirement already satisfied: tqdm in /Users/jtr/.pyenv/versions/3.10.6/envs/song-sentiment-recommendation/lib/python3.10/site-packages (from sacremoses) (4.66.4)\n"
     ]
    }
   ],
   "source": [
    "! pip install sentencepiece sacremoses"
   ]
  },
  {
   "cell_type": "code",
   "execution_count": 16,
   "id": "954a7f8b",
   "metadata": {},
   "outputs": [
    {
     "name": "stderr",
     "output_type": "stream",
     "text": [
      "Some weights of the model checkpoint at cardiffnlp/twitter-roberta-base-sentiment-latest were not used when initializing RobertaForSequenceClassification: ['roberta.pooler.dense.bias', 'roberta.pooler.dense.weight']\n",
      "- This IS expected if you are initializing RobertaForSequenceClassification from the checkpoint of a model trained on another task or with another architecture (e.g. initializing a BertForSequenceClassification model from a BertForPreTraining model).\n",
      "- This IS NOT expected if you are initializing RobertaForSequenceClassification from the checkpoint of a model that you expect to be exactly identical (initializing a BertForSequenceClassification model from a BertForSequenceClassification model).\n"
     ]
    }
   ],
   "source": [
    "from transformers import pipeline\n",
    "\n",
    "pipe = pipeline(model= \"cardiffnlp/twitter-roberta-base-sentiment-latest\")"
   ]
  },
  {
   "cell_type": "code",
   "execution_count": 32,
   "id": "900ffb31",
   "metadata": {},
   "outputs": [
    {
     "data": {
      "text/plain": [
       "[{'label': 'positive', 'score': 0.47886452078819275}]"
      ]
     },
     "execution_count": 32,
     "metadata": {},
     "output_type": "execute_result"
    }
   ],
   "source": [
    "pipe(\"I had a rather boring day, but not that bad. Let's listen to some music to cheer up\")"
   ]
  },
  {
   "cell_type": "code",
   "execution_count": null,
   "id": "39d01c8a",
   "metadata": {},
   "outputs": [],
   "source": []
  }
 ],
 "metadata": {
  "kernelspec": {
   "display_name": "Python 3 (ipykernel)",
   "language": "python",
   "name": "python3"
  },
  "language_info": {
   "codemirror_mode": {
    "name": "ipython",
    "version": 3
   },
   "file_extension": ".py",
   "mimetype": "text/x-python",
   "name": "python",
   "nbconvert_exporter": "python",
   "pygments_lexer": "ipython3",
   "version": "3.10.6"
  },
  "toc": {
   "base_numbering": 1,
   "nav_menu": {},
   "number_sections": true,
   "sideBar": true,
   "skip_h1_title": false,
   "title_cell": "Table of Contents",
   "title_sidebar": "Contents",
   "toc_cell": false,
   "toc_position": {},
   "toc_section_display": true,
   "toc_window_display": false
  }
 },
 "nbformat": 4,
 "nbformat_minor": 5
}
